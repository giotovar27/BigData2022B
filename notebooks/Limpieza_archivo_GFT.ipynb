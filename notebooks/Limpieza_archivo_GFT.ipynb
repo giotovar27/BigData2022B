{
 "cells": [
  {
   "cell_type": "code",
   "execution_count": 78,
   "metadata": {},
   "outputs": [],
   "source": [
    "import numpy as np\n",
    "import pandas as pd\n",
    "import os\n",
    "from pathlib import Path\n",
    "from dateutil.parser import parse\n",
    "from fileinput import filename"
   ]
  },
  {
   "cell_type": "code",
   "execution_count": 79,
   "metadata": {},
   "outputs": [
    {
     "name": "stdout",
     "output_type": "stream",
     "text": [
      "root_dir: D:\\ESEIT\\BigData2022B\n"
     ]
    }
   ],
   "source": [
    "root_dir = Path(\".\").resolve().parent\n",
    "print(\"root_dir:\", root_dir)"
   ]
  },
  {
   "cell_type": "code",
   "execution_count": 80,
   "metadata": {},
   "outputs": [
    {
     "data": {
      "text/plain": [
       "['0.1.gtovar-eda-inicio-llamadas-123.ipynb',\n",
       " 'BO_HeartData.xlsx',\n",
       " 'clase_4.ipynb',\n",
       " 'Codigo_09_1.ipynb',\n",
       " 'ETL_ejemplo_GTF.ipynb',\n",
       " 'Limpieza_archivo_GFT.ipynb',\n",
       " 'llamadas123_julio_2022.csv',\n",
       " 'llamadas123_julio_2022_PRUEBA1.csv']"
      ]
     },
     "execution_count": 80,
     "metadata": {},
     "output_type": "execute_result"
    }
   ],
   "source": [
    "# RUTA ARCHIVOS\n",
    "data_dir = \"notebooks\"\n",
    "path2 = os.path.join(root_dir,data_dir)\n",
    "os.listdir(path2)"
   ]
  },
  {
   "cell_type": "code",
   "execution_count": 81,
   "metadata": {},
   "outputs": [
    {
     "name": "stdout",
     "output_type": "stream",
     "text": [
      "D:\\ESEIT\\BigData2022B\\notebooks\\llamadas123_julio_2022_PRUEBA1.csv\n"
     ]
    }
   ],
   "source": [
    "filename=\"llamadas123_julio_2022_PRUEBA1.csv\"\n",
    "file_path = os.path.join(root_dir,data_dir,filename)\n",
    "print(file_path)"
   ]
  },
  {
   "cell_type": "code",
   "execution_count": 82,
   "metadata": {},
   "outputs": [
    {
     "name": "stdout",
     "output_type": "stream",
     "text": [
      "Estructura inicial  (150, 11)\n"
     ]
    }
   ],
   "source": [
    "data = pd.read_csv(file_path, encoding=\"latin-1\", sep=\";\")\n",
    "data.head()\n",
    "print('Estructura inicial ',data.shape)"
   ]
  },
  {
   "cell_type": "code",
   "execution_count": 83,
   "metadata": {},
   "outputs": [
    {
     "name": "stdout",
     "output_type": "stream",
     "text": [
      "<class 'pandas.core.frame.DataFrame'>\n",
      "RangeIndex: 150 entries, 0 to 149\n",
      "Data columns (total 11 columns):\n",
      " #   Column                             Non-Null Count  Dtype \n",
      "---  ------                             --------------  ----- \n",
      " 0   NUMERO_INCIDENTE                   150 non-null    object\n",
      " 1   FECHA_INICIO_DESPLAZAMIENTO_MOVIL  150 non-null    object\n",
      " 2   CODIGO_LOCALIDAD                   150 non-null    int64 \n",
      " 3   LOCALIDAD                          150 non-null    object\n",
      " 4   EDAD                               150 non-null    object\n",
      " 5   UNIDAD                             150 non-null    object\n",
      " 6   GENERO                             94 non-null     object\n",
      " 7   RED                                141 non-null    object\n",
      " 8   TIPO_INCIDENTE                     150 non-null    object\n",
      " 9   PRIORIDAD                          150 non-null    object\n",
      " 10  RECEPCION                          150 non-null    object\n",
      "dtypes: int64(1), object(10)\n",
      "memory usage: 13.0+ KB\n"
     ]
    }
   ],
   "source": [
    "data.info()"
   ]
  },
  {
   "cell_type": "code",
   "execution_count": 84,
   "metadata": {},
   "outputs": [],
   "source": [
    "# FUNCIONES\n",
    "\n",
    "# 1 Eliminar duplicados\n",
    "# 2 Sobrescribir valores nulos\n",
    "# 3 Eliminar caracteres especiales\n",
    "# 4 Quitar espacios en blanco\n",
    "# 5 Estandarizar datos (Mayusculas - Minusculas)"
   ]
  },
  {
   "cell_type": "code",
   "execution_count": 85,
   "metadata": {},
   "outputs": [],
   "source": [
    "columna=input(\"Digite la columna a tratar: \")\n",
    "may_min=input(\"Para que el texto sea en mayuscula digite M ,para minuscula m ,solo la primera letra en mayuscula 1M\")\n",
    "#print(columna)\n",
    "#data[columna]\n",
    "#print(may_min)"
   ]
  },
  {
   "cell_type": "code",
   "execution_count": 86,
   "metadata": {},
   "outputs": [],
   "source": [
    "columna_original=data[columna]"
   ]
  },
  {
   "cell_type": "code",
   "execution_count": 87,
   "metadata": {},
   "outputs": [
    {
     "name": "stdout",
     "output_type": "stream",
     "text": [
      "estructuta final  (104, 11)\n"
     ]
    },
    {
     "data": {
      "text/html": [
       "<div>\n",
       "<style scoped>\n",
       "    .dataframe tbody tr th:only-of-type {\n",
       "        vertical-align: middle;\n",
       "    }\n",
       "\n",
       "    .dataframe tbody tr th {\n",
       "        vertical-align: top;\n",
       "    }\n",
       "\n",
       "    .dataframe thead th {\n",
       "        text-align: right;\n",
       "    }\n",
       "</style>\n",
       "<table border=\"1\" class=\"dataframe\">\n",
       "  <thead>\n",
       "    <tr style=\"text-align: right;\">\n",
       "      <th></th>\n",
       "      <th>NUMERO_INCIDENTE</th>\n",
       "      <th>FECHA_INICIO_DESPLAZAMIENTO_MOVIL</th>\n",
       "      <th>CODIGO_LOCALIDAD</th>\n",
       "      <th>LOCALIDAD</th>\n",
       "      <th>EDAD</th>\n",
       "      <th>UNIDAD</th>\n",
       "      <th>GENERO</th>\n",
       "      <th>RED</th>\n",
       "      <th>TIPO_INCIDENTE</th>\n",
       "      <th>PRIORIDAD</th>\n",
       "      <th>RECEPCION</th>\n",
       "    </tr>\n",
       "  </thead>\n",
       "  <tbody>\n",
       "    <tr>\n",
       "      <th>0</th>\n",
       "      <td>CRU-00278353-22</td>\n",
       "      <td>1/07/2022</td>\n",
       "      <td>11</td>\n",
       "      <td>Suba</td>\n",
       "      <td>88</td>\n",
       "      <td>A¤os</td>\n",
       "      <td>femenino</td>\n",
       "      <td>Norte*\")</td>\n",
       "      <td>Accidente Cerebro Vascular</td>\n",
       "      <td>ALTA</td>\n",
       "      <td>1/07/2022 3:40</td>\n",
       "    </tr>\n",
       "    <tr>\n",
       "      <th>1</th>\n",
       "      <td>CRU-00278360-22</td>\n",
       "      <td>1/07/2022</td>\n",
       "      <td>11</td>\n",
       "      <td>Suba</td>\n",
       "      <td>16</td>\n",
       "      <td>A¤os</td>\n",
       "      <td>MASCULINO</td>\n",
       "      <td>NaN</td>\n",
       "      <td>Herido</td>\n",
       "      <td>ALTA</td>\n",
       "      <td>1/07/2022 3:38</td>\n",
       "    </tr>\n",
       "    <tr>\n",
       "      <th>2</th>\n",
       "      <td>CRU-00278365-22</td>\n",
       "      <td>1/07/2022</td>\n",
       "      <td>18</td>\n",
       "      <td>Rafael Uribe Uribe</td>\n",
       "      <td>52</td>\n",
       "      <td>A¤os</td>\n",
       "      <td>FEMENINO</td>\n",
       "      <td>Centro: Oriente</td>\n",
       "      <td>Evento Respiratorio</td>\n",
       "      <td>CRITICA</td>\n",
       "      <td>1/07/2022 4:08</td>\n",
       "    </tr>\n",
       "    <tr>\n",
       "      <th>3</th>\n",
       "      <td>CRU-00278370-22</td>\n",
       "      <td>1/07/2022</td>\n",
       "      <td>19</td>\n",
       "      <td>Ciudad Bol¡var</td>\n",
       "      <td></td>\n",
       "      <td></td>\n",
       "      <td>NaN</td>\n",
       "      <td>\"Privada</td>\n",
       "      <td>Herido</td>\n",
       "      <td>ALTA</td>\n",
       "      <td>0000-00-00 00:00:00</td>\n",
       "    </tr>\n",
       "    <tr>\n",
       "      <th>4</th>\n",
       "      <td>CRU-00278372-22</td>\n",
       "      <td>1/07/2022</td>\n",
       "      <td>1</td>\n",
       "      <td>Usaqun</td>\n",
       "      <td>33</td>\n",
       "      <td>A¤os</td>\n",
       "      <td>MASCULINO</td>\n",
       "      <td>Norte()</td>\n",
       "      <td>Intento de Suicidio</td>\n",
       "      <td>ALTA</td>\n",
       "      <td>1/07/2022 3:25</td>\n",
       "    </tr>\n",
       "    <tr>\n",
       "      <th>...</th>\n",
       "      <td>...</td>\n",
       "      <td>...</td>\n",
       "      <td>...</td>\n",
       "      <td>...</td>\n",
       "      <td>...</td>\n",
       "      <td>...</td>\n",
       "      <td>...</td>\n",
       "      <td>...</td>\n",
       "      <td>...</td>\n",
       "      <td>...</td>\n",
       "      <td>...</td>\n",
       "    </tr>\n",
       "    <tr>\n",
       "      <th>99</th>\n",
       "      <td>CRU-00278632-22</td>\n",
       "      <td>1/07/2022 8:28</td>\n",
       "      <td>16</td>\n",
       "      <td>Puente Aranda</td>\n",
       "      <td></td>\n",
       "      <td></td>\n",
       "      <td>NaN</td>\n",
       "      <td>Norte</td>\n",
       "      <td>Trastorno Mental</td>\n",
       "      <td>ALTA</td>\n",
       "      <td>0000-00-00 00:00:00</td>\n",
       "    </tr>\n",
       "    <tr>\n",
       "      <th>100</th>\n",
       "      <td>CRU-00278386-22</td>\n",
       "      <td>1/07/2022 1:11</td>\n",
       "      <td>15</td>\n",
       "      <td>Antonio Nari¤o</td>\n",
       "      <td>14</td>\n",
       "      <td>A¤os</td>\n",
       "      <td>Masculino</td>\n",
       "      <td>Sur</td>\n",
       "      <td>Convulsi¢n</td>\n",
       "      <td>ALTA</td>\n",
       "      <td>1/07/2022 2:37</td>\n",
       "    </tr>\n",
       "    <tr>\n",
       "      <th>108</th>\n",
       "      <td>CRU-00278514-22</td>\n",
       "      <td>1/07/2022 6:22</td>\n",
       "      <td>16</td>\n",
       "      <td>Puente Aranda</td>\n",
       "      <td></td>\n",
       "      <td></td>\n",
       "      <td>NaN</td>\n",
       "      <td>NaN</td>\n",
       "      <td>Herido</td>\n",
       "      <td>ALTA</td>\n",
       "      <td>0000-00-00 00:00:00</td>\n",
       "    </tr>\n",
       "    <tr>\n",
       "      <th>129</th>\n",
       "      <td>CRU-00278581-22</td>\n",
       "      <td>1/07/2022 7:21</td>\n",
       "      <td>19</td>\n",
       "      <td>Ciudad Bol¡var</td>\n",
       "      <td>90</td>\n",
       "      <td>A¤os</td>\n",
       "      <td>MASCULINO</td>\n",
       "      <td>NaN</td>\n",
       "      <td>Evento Respiratorio</td>\n",
       "      <td>CRITICA</td>\n",
       "      <td>1/07/2022 12:32</td>\n",
       "    </tr>\n",
       "    <tr>\n",
       "      <th>140</th>\n",
       "      <td>CRU-00278613-22</td>\n",
       "      <td>1/07/2022 7:56</td>\n",
       "      <td>2</td>\n",
       "      <td>Chapinero</td>\n",
       "      <td>21</td>\n",
       "      <td>A¤os</td>\n",
       "      <td>FEMENINO</td>\n",
       "      <td>Norte</td>\n",
       "      <td>Patolog¡a Ginecobsttrica</td>\n",
       "      <td>ALTA</td>\n",
       "      <td>1/07/2022 15:10</td>\n",
       "    </tr>\n",
       "  </tbody>\n",
       "</table>\n",
       "<p>104 rows × 11 columns</p>\n",
       "</div>"
      ],
      "text/plain": [
       "    NUMERO_INCIDENTE FECHA_INICIO_DESPLAZAMIENTO_MOVIL  CODIGO_LOCALIDAD  \\\n",
       "0    CRU-00278353-22                         1/07/2022                11   \n",
       "1    CRU-00278360-22                         1/07/2022                11   \n",
       "2    CRU-00278365-22                         1/07/2022                18   \n",
       "3    CRU-00278370-22                         1/07/2022                19   \n",
       "4    CRU-00278372-22                         1/07/2022                 1   \n",
       "..               ...                               ...               ...   \n",
       "99   CRU-00278632-22                    1/07/2022 8:28                16   \n",
       "100  CRU-00278386-22                    1/07/2022 1:11                15   \n",
       "108  CRU-00278514-22                    1/07/2022 6:22                16   \n",
       "129  CRU-00278581-22                    1/07/2022 7:21                19   \n",
       "140  CRU-00278613-22                    1/07/2022 7:56                 2   \n",
       "\n",
       "                  LOCALIDAD EDAD UNIDAD     GENERO              RED  \\\n",
       "0                      Suba   88   A¤os   femenino         Norte*\")   \n",
       "1                      Suba   16   A¤os  MASCULINO              NaN   \n",
       "2        Rafael Uribe Uribe   52   A¤os   FEMENINO  Centro: Oriente   \n",
       "3            Ciudad Bol¡var                    NaN         \"Privada   \n",
       "4                  Usaqun    33   A¤os  MASCULINO          Norte()   \n",
       "..                      ...  ...    ...        ...              ...   \n",
       "99            Puente Aranda                    NaN            Norte   \n",
       "100          Antonio Nari¤o   14   A¤os  Masculino              Sur   \n",
       "108           Puente Aranda                    NaN              NaN   \n",
       "129          Ciudad Bol¡var   90   A¤os  MASCULINO              NaN   \n",
       "140               Chapinero   21   A¤os   FEMENINO            Norte   \n",
       "\n",
       "                 TIPO_INCIDENTE PRIORIDAD            RECEPCION  \n",
       "0    Accidente Cerebro Vascular      ALTA       1/07/2022 3:40  \n",
       "1                        Herido      ALTA       1/07/2022 3:38  \n",
       "2           Evento Respiratorio   CRITICA       1/07/2022 4:08  \n",
       "3                        Herido      ALTA  0000-00-00 00:00:00  \n",
       "4           Intento de Suicidio      ALTA       1/07/2022 3:25  \n",
       "..                          ...       ...                  ...  \n",
       "99             Trastorno Mental      ALTA  0000-00-00 00:00:00  \n",
       "100                  Convulsi¢n      ALTA       1/07/2022 2:37  \n",
       "108                      Herido      ALTA  0000-00-00 00:00:00  \n",
       "129         Evento Respiratorio   CRITICA      1/07/2022 12:32  \n",
       "140   Patolog¡a Ginecobsttrica      ALTA      1/07/2022 15:10  \n",
       "\n",
       "[104 rows x 11 columns]"
      ]
     },
     "execution_count": 87,
     "metadata": {},
     "output_type": "execute_result"
    }
   ],
   "source": [
    "# FUNCION Eliminar duplicados\n",
    "\n",
    "def elimina_Duplicados(data):\n",
    "    '''Elimina los valores duplicados    '''\n",
    "    data2=data.drop_duplicates() #elimina los duplicados\n",
    "    print(\"estructuta final \",data2.shape)\n",
    "    return data2\n",
    "\n",
    "elimina_Duplicados(data)\n"
   ]
  },
  {
   "cell_type": "code",
   "execution_count": 88,
   "metadata": {},
   "outputs": [
    {
     "data": {
      "text/html": [
       "<div>\n",
       "<style scoped>\n",
       "    .dataframe tbody tr th:only-of-type {\n",
       "        vertical-align: middle;\n",
       "    }\n",
       "\n",
       "    .dataframe tbody tr th {\n",
       "        vertical-align: top;\n",
       "    }\n",
       "\n",
       "    .dataframe thead th {\n",
       "        text-align: right;\n",
       "    }\n",
       "</style>\n",
       "<table border=\"1\" class=\"dataframe\">\n",
       "  <thead>\n",
       "    <tr style=\"text-align: right;\">\n",
       "      <th></th>\n",
       "      <th>RED</th>\n",
       "    </tr>\n",
       "  </thead>\n",
       "  <tbody>\n",
       "    <tr>\n",
       "      <th>0</th>\n",
       "      <td>Norte*\")</td>\n",
       "    </tr>\n",
       "    <tr>\n",
       "      <th>1</th>\n",
       "      <td>SIN DATO</td>\n",
       "    </tr>\n",
       "    <tr>\n",
       "      <th>2</th>\n",
       "      <td>Centro: Oriente</td>\n",
       "    </tr>\n",
       "    <tr>\n",
       "      <th>3</th>\n",
       "      <td>\"Privada</td>\n",
       "    </tr>\n",
       "    <tr>\n",
       "      <th>4</th>\n",
       "      <td>Norte()</td>\n",
       "    </tr>\n",
       "    <tr>\n",
       "      <th>...</th>\n",
       "      <td>...</td>\n",
       "    </tr>\n",
       "    <tr>\n",
       "      <th>145</th>\n",
       "      <td>Sur</td>\n",
       "    </tr>\n",
       "    <tr>\n",
       "      <th>146</th>\n",
       "      <td>Privada</td>\n",
       "    </tr>\n",
       "    <tr>\n",
       "      <th>147</th>\n",
       "      <td>Sur Occidente</td>\n",
       "    </tr>\n",
       "    <tr>\n",
       "      <th>148</th>\n",
       "      <td>Sur Occidente</td>\n",
       "    </tr>\n",
       "    <tr>\n",
       "      <th>149</th>\n",
       "      <td>Norte</td>\n",
       "    </tr>\n",
       "  </tbody>\n",
       "</table>\n",
       "<p>150 rows × 1 columns</p>\n",
       "</div>"
      ],
      "text/plain": [
       "                 RED\n",
       "0           Norte*\")\n",
       "1           SIN DATO\n",
       "2    Centro: Oriente\n",
       "3           \"Privada\n",
       "4            Norte()\n",
       "..               ...\n",
       "145              Sur\n",
       "146          Privada\n",
       "147    Sur Occidente\n",
       "148    Sur Occidente\n",
       "149            Norte\n",
       "\n",
       "[150 rows x 1 columns]"
      ]
     },
     "execution_count": 88,
     "metadata": {},
     "output_type": "execute_result"
    }
   ],
   "source": [
    "# FUNCION Sobrescribir valores nulos\n",
    "def valores_nulos(nulo,columna1):\n",
    "    \n",
    "    nulo1=nulo[columna1].fillna('SIN DATO') # remplaza los valores nulos por la palabra sin_dato\n",
    "    return nulo1\n",
    "\n",
    "valores_nulos(data,[columna])    "
   ]
  },
  {
   "cell_type": "code",
   "execution_count": 89,
   "metadata": {},
   "outputs": [],
   "source": [
    "# Funcion Quitar espacios en blanco por columnas\n",
    "def espacios_blancos(espacio,columna2):\n",
    "    espacio1=espacio[columna2].str.lstrip(' ')\n",
    "    \n",
    "    #print(\"tamaño= \",len(espacio1[0]))\n",
    "\n",
    "espacios_blancos(data,columna)"
   ]
  },
  {
   "cell_type": "code",
   "execution_count": 90,
   "metadata": {},
   "outputs": [
    {
     "name": "stdout",
     "output_type": "stream",
     "text": [
      "0             NORTE*\")\n",
      "1                  NaN\n",
      "2      CENTRO: ORIENTE\n",
      "3             \"PRIVADA\n",
      "4              NORTE()\n",
      "            ...       \n",
      "145                SUR\n",
      "146            PRIVADA\n",
      "147      SUR OCCIDENTE\n",
      "148      SUR OCCIDENTE\n",
      "149              NORTE\n",
      "Name: RED, Length: 150, dtype: object\n"
     ]
    }
   ],
   "source": [
    "# FUNCION estandarizar datos, mayusculas o minusculas\n",
    "def estandarizar_datos(columna4,tipo_):\n",
    "    \n",
    "    dat1=data[columna4]\n",
    "\n",
    "    if tipo_=='M':\n",
    "        dat2=dat1.str.upper()\n",
    "        print(dat2)\n",
    "    else:\n",
    "        if tipo_=='m':\n",
    "            dat2=dat1.str.lower()\n",
    "            print(dat2)\n",
    "        else:\n",
    "            if tipo_=='1M':\n",
    "                dat2=dat1.str.capitalize()\n",
    "                print(dat2)\n",
    "            else:\n",
    "                print(\"la Variable que ingreso es incorrecta\")\n",
    "\n",
    "# M = MAYUSCULA  //  m = minuscula // 1M = 1ra mayuscula\n",
    "estandarizar_datos(columna,may_min) # parametros: archivo, columna, y si es mayuscula o minuscula"
   ]
  },
  {
   "cell_type": "code",
   "execution_count": 91,
   "metadata": {},
   "outputs": [
    {
     "name": "stdout",
     "output_type": "stream",
     "text": [
      "0               Norte\n",
      "1                 NaN\n",
      "2      Centro Oriente\n",
      "3             Privada\n",
      "4               Norte\n",
      "            ...      \n",
      "145               Sur\n",
      "146           Privada\n",
      "147     Sur Occidente\n",
      "148     Sur Occidente\n",
      "149             Norte\n",
      "Name: RED, Length: 150, dtype: object\n"
     ]
    }
   ],
   "source": [
    "# Funcion Eliminar caracteres especiales\n",
    "def caracteres_especiales(columna3):\n",
    "\n",
    "    del_caracter=data[columna3].str.replace(r'''[\"*!ˆ/()¿¡€@<?&%#>°\\:]''','', regex=True)\n",
    "    print(del_caracter)\n",
    "\n",
    "caracteres_especiales(columna)"
   ]
  },
  {
   "cell_type": "code",
   "execution_count": 92,
   "metadata": {},
   "outputs": [],
   "source": [
    "# M = MAYUSCULA  //  m = minuscula // 1M = 1ra mayuscula\n",
    "#estandarizar_datos(data,columna,may_min) # parametros: archivo, columna, y si es mayuscula o minuscula"
   ]
  }
 ],
 "metadata": {
  "kernelspec": {
   "display_name": "Python 3.9.12 ('base')",
   "language": "python",
   "name": "python3"
  },
  "language_info": {
   "codemirror_mode": {
    "name": "ipython",
    "version": 3
   },
   "file_extension": ".py",
   "mimetype": "text/x-python",
   "name": "python",
   "nbconvert_exporter": "python",
   "pygments_lexer": "ipython3",
   "version": "3.9.12"
  },
  "orig_nbformat": 4,
  "vscode": {
   "interpreter": {
    "hash": "f373e662262bfd03601bebd84b657915061dbb414d94e91198d4c8241d996e05"
   }
  }
 },
 "nbformat": 4,
 "nbformat_minor": 2
}
