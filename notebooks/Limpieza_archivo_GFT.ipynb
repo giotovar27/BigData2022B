{
 "cells": [
  {
   "cell_type": "code",
   "execution_count": 1,
   "metadata": {},
   "outputs": [],
   "source": [
    "import numpy as np\n",
    "import pandas as pd\n",
    "import os\n",
    "from pathlib import Path\n",
    "from dateutil.parser import parse\n",
    "from fileinput import filename"
   ]
  },
  {
   "cell_type": "code",
   "execution_count": 2,
   "metadata": {},
   "outputs": [
    {
     "name": "stdout",
     "output_type": "stream",
     "text": [
      "root_dir: D:\\ESEIT\\BigData2022B\n"
     ]
    }
   ],
   "source": [
    "root_dir = Path(\".\").resolve().parent\n",
    "print(\"root_dir:\", root_dir)"
   ]
  },
  {
   "cell_type": "code",
   "execution_count": 3,
   "metadata": {},
   "outputs": [
    {
     "data": {
      "text/plain": [
       "['0.1.gtovar-eda-inicio-llamadas-123.ipynb',\n",
       " 'Análisis_de_imágenes.ipynb',\n",
       " 'BO_HeartData.xlsx',\n",
       " 'clase_4.ipynb',\n",
       " 'Codigo_09_1.ipynb',\n",
       " 'ETL_ejemplo_GTF.ipynb',\n",
       " 'Limpieza_archivo_GFT.ipynb',\n",
       " 'llamadas123_abril_2022.csv',\n",
       " 'llamadas123_agosto_2022.csv',\n",
       " 'llamadas123_enero_2022.csv',\n",
       " 'llamadas123_febrero_2022.csv',\n",
       " 'llamadas123_julio_2019.csv',\n",
       " 'llamadas123_julio_2022.csv',\n",
       " 'llamadas123_julio_2022_PRUEBA1.csv',\n",
       " 'llamadas123_junio_2022.csv',\n",
       " 'llamadas123_marzo_2022.csv',\n",
       " 'llamadas123_mayo_2022.csv']"
      ]
     },
     "execution_count": 3,
     "metadata": {},
     "output_type": "execute_result"
    }
   ],
   "source": [
    "# RUTA ARCHIVOS\n",
    "data_dir = \"notebooks\"\n",
    "path2 = os.path.join(root_dir,data_dir)\n",
    "os.listdir(path2)"
   ]
  },
  {
   "cell_type": "code",
   "execution_count": 4,
   "metadata": {},
   "outputs": [
    {
     "name": "stdout",
     "output_type": "stream",
     "text": [
      "D:\\ESEIT\\BigData2022B\\notebooks\\llamadas123_marzo_2022.csv\n"
     ]
    }
   ],
   "source": [
    "filename=\"llamadas123_marzo_2022.csv\"\n",
    "file_path = os.path.join(root_dir,data_dir,filename)\n",
    "print(file_path)"
   ]
  },
  {
   "cell_type": "code",
   "execution_count": 5,
   "metadata": {},
   "outputs": [],
   "source": [
    "data = pd.read_csv(file_path, encoding=\"latin-1\", sep=\";\")\n",
    "#data"
   ]
  },
  {
   "cell_type": "code",
   "execution_count": 6,
   "metadata": {},
   "outputs": [
    {
     "name": "stdout",
     "output_type": "stream",
     "text": [
      "estructura inicial  (13167, 11)\n"
     ]
    }
   ],
   "source": [
    "print(\"estructura inicial \",data.shape)"
   ]
  },
  {
   "cell_type": "code",
   "execution_count": 7,
   "metadata": {},
   "outputs": [],
   "source": [
    "def tipo_dato(data): \n",
    "    #cambiar tipo de dato al campo edad ya que no todos los archivo vienen en el mismo tipo\n",
    "    data[\"EDAD\"]=data[\"EDAD\"].astype('object')\n",
    "    return(data)\n",
    "\n",
    "data=tipo_dato(data)\n"
   ]
  },
  {
   "cell_type": "code",
   "execution_count": 8,
   "metadata": {},
   "outputs": [
    {
     "name": "stdout",
     "output_type": "stream",
     "text": [
      "estructura final luego de eliminar duplicados  (13118, 11)\n"
     ]
    }
   ],
   "source": [
    "# FUNCION Eliminar duplicados\n",
    "\n",
    "def elimina_Duplicados(data):\n",
    "    '''Elimina los valores duplicados    '''\n",
    "    data=data.drop_duplicates() #elimina los duplicados\n",
    "    return data\n",
    "\n",
    "elimina_Duplicados(data)\n",
    "n_data=elimina_Duplicados(data)\n",
    "print(\"estructura final luego de eliminar duplicados \",n_data.shape)"
   ]
  },
  {
   "cell_type": "code",
   "execution_count": 9,
   "metadata": {},
   "outputs": [],
   "source": [
    "# FUNCION Sobrescribir valores nulos\n",
    "def valores_nulos(data):\n",
    "    \n",
    "    data=data.fillna('Sin dato') # remplaza los valores nulos por la palabra sin_dato\n",
    "    return data\n",
    "\n",
    "valores_nulos(n_data)\n",
    "n_data=valores_nulos(n_data)"
   ]
  },
  {
   "cell_type": "code",
   "execution_count": 10,
   "metadata": {},
   "outputs": [],
   "source": [
    "def remplazo(data):\n",
    "    #data=data.replace( r'''[¤]''','ñ', regex=True)\n",
    "    \n",
    "    data=data.replace( r'''[¤]''','ñ', regex=True)\n",
    "    data=data.replace( r'''[¡]''','i', regex=True)\n",
    "    \n",
    "    return(data)\n",
    "\n",
    "remplazo(n_data)\n",
    "n_data=remplazo(n_data)"
   ]
  },
  {
   "cell_type": "code",
   "execution_count": 11,
   "metadata": {},
   "outputs": [],
   "source": [
    "# FUNCION estandarizar datos, mayusculas o minusculas\n",
    "def estandarizar_datos(data1):\n",
    "    \n",
    "    #data1[\"RED\"]=data1[\"RED\",\"PRIORIDAD\"].str.upper()  # MAYUSCULA\n",
    "    #data1[\"RED\"]=data1[\"RED\"].str.lower()  # minuscula\n",
    "    data1.iloc[:,9]=data1.iloc[:,9].str.capitalize()  # 1ra mayuscula\n",
    "    data1.iloc[:,8]=data1.iloc[:,8].str.capitalize()\n",
    "    data1.iloc[:,7]=data1.iloc[:,7].str.capitalize()\n",
    "    data1.iloc[:,6]=data1.iloc[:,6].str.capitalize()\n",
    "    data1.iloc[:,5]=data1.iloc[:,5].str.capitalize()\n",
    "    data1.iloc[:,4]=data1.iloc[:,4].str.capitalize()\n",
    "    data1.iloc[:,3]=data1.iloc[:,3].str.capitalize()\n",
    "    return(data1)\n",
    "    \n",
    "n_data=estandarizar_datos(n_data) "
   ]
  },
  {
   "cell_type": "code",
   "execution_count": 12,
   "metadata": {},
   "outputs": [],
   "source": [
    "def remplazo(data):\n",
    "    #data=data.replace( r'''[¤]''','ñ', regex=True)\n",
    "    \n",
    "    replace_values={ 'Usaqu\\x82n' : 'Usaquen', 'Usaqun':'Usaquen','San crist¢bal': 'San Cristobal','Engativ\\xa0':'Engativa', 'Los m\\xa0rtires':'Los Martires',\n",
    "    'Fontib¢n':'Fontibon' }\n",
    "    replace_incidente= { 'Convulsi¢n' : 'Convulsion', 'Dolor tor\\xa0cico': 'Dolor torácico',\n",
    "    'Patologia ginecobst\\x82trica':'patologia gineco obstetrica', 'Intoxicaci¢n':'Intoxicacion',\n",
    "    'Electrocuci¢n / rescate':'Electrocucion / rescate' }                                                                   \n",
    "\n",
    "    data=data.replace( {\"LOCALIDAD\": replace_values} )\n",
    "    data=data.replace( {\"TIPO_INCIDENTE\": replace_incidente} )\n",
    "\n",
    "    return(data)\n",
    "\n",
    "remplazo(n_data)\n",
    "n_data=remplazo(n_data)"
   ]
  },
  {
   "cell_type": "code",
   "execution_count": 13,
   "metadata": {},
   "outputs": [
    {
     "data": {
      "text/html": [
       "<div>\n",
       "<style scoped>\n",
       "    .dataframe tbody tr th:only-of-type {\n",
       "        vertical-align: middle;\n",
       "    }\n",
       "\n",
       "    .dataframe tbody tr th {\n",
       "        vertical-align: top;\n",
       "    }\n",
       "\n",
       "    .dataframe thead th {\n",
       "        text-align: right;\n",
       "    }\n",
       "</style>\n",
       "<table border=\"1\" class=\"dataframe\">\n",
       "  <thead>\n",
       "    <tr style=\"text-align: right;\">\n",
       "      <th></th>\n",
       "      <th>NUMERO_INCIDENTE</th>\n",
       "      <th>FECHA_INICIO_DESPLAZAMIENTO-MOVIL</th>\n",
       "      <th>CODIGO_LOCALIDAD</th>\n",
       "      <th>LOCALIDAD</th>\n",
       "      <th>EDAD</th>\n",
       "      <th>UNIDAD</th>\n",
       "      <th>GENERO</th>\n",
       "      <th>RED</th>\n",
       "      <th>TIPO_INCIDENTE</th>\n",
       "      <th>PRIORIDAD</th>\n",
       "      <th>RECEPCION</th>\n",
       "    </tr>\n",
       "  </thead>\n",
       "  <tbody>\n",
       "    <tr>\n",
       "      <th>0</th>\n",
       "      <td>CRU-00085818-22</td>\n",
       "      <td>2022-03-01 00:11:13</td>\n",
       "      <td>19</td>\n",
       "      <td>Ciudad bolivar</td>\n",
       "      <td>Sin_dato</td>\n",
       "      <td>Sin_dato</td>\n",
       "      <td>Sin_dato</td>\n",
       "      <td>Sur occidente</td>\n",
       "      <td>Caida de altura</td>\n",
       "      <td>Alta</td>\n",
       "      <td>0000-00-00 00:00:00</td>\n",
       "    </tr>\n",
       "    <tr>\n",
       "      <th>1</th>\n",
       "      <td>CRU-00085821-22</td>\n",
       "      <td>2022-03-01 00:20:02</td>\n",
       "      <td>8</td>\n",
       "      <td>Kennedy</td>\n",
       "      <td>Sin_dato</td>\n",
       "      <td>Sin_dato</td>\n",
       "      <td>Sin_dato</td>\n",
       "      <td>Sur</td>\n",
       "      <td>Dolor torácico</td>\n",
       "      <td>Alta</td>\n",
       "      <td>0000-00-00 00:00:00</td>\n",
       "    </tr>\n",
       "    <tr>\n",
       "      <th>2</th>\n",
       "      <td>CRU-00085824-22</td>\n",
       "      <td>2022-03-01 02:07:15</td>\n",
       "      <td>10</td>\n",
       "      <td>Engativa</td>\n",
       "      <td>73</td>\n",
       "      <td>Años</td>\n",
       "      <td>Masculino</td>\n",
       "      <td>Norte</td>\n",
       "      <td>Evento respiratorio</td>\n",
       "      <td>Critca</td>\n",
       "      <td>2022-03-01 05:08:32</td>\n",
       "    </tr>\n",
       "    <tr>\n",
       "      <th>3</th>\n",
       "      <td>CRU-00085826-22</td>\n",
       "      <td>2022-03-01 01:40:42</td>\n",
       "      <td>11</td>\n",
       "      <td>Suba</td>\n",
       "      <td>Sin_dato</td>\n",
       "      <td>Sin_dato</td>\n",
       "      <td>Sin_dato</td>\n",
       "      <td>Norte</td>\n",
       "      <td>Intoxicacion</td>\n",
       "      <td>Media</td>\n",
       "      <td>0000-00-00 00:00:00</td>\n",
       "    </tr>\n",
       "    <tr>\n",
       "      <th>4</th>\n",
       "      <td>CRU-00085828-22</td>\n",
       "      <td>2022-03-01 01:18:00</td>\n",
       "      <td>11</td>\n",
       "      <td>Suba</td>\n",
       "      <td>24</td>\n",
       "      <td>Años</td>\n",
       "      <td>Femenino</td>\n",
       "      <td>Norte</td>\n",
       "      <td>patologia gineco obstetrica</td>\n",
       "      <td>Alta</td>\n",
       "      <td>2022-03-01 04:17:19</td>\n",
       "    </tr>\n",
       "    <tr>\n",
       "      <th>...</th>\n",
       "      <td>...</td>\n",
       "      <td>...</td>\n",
       "      <td>...</td>\n",
       "      <td>...</td>\n",
       "      <td>...</td>\n",
       "      <td>...</td>\n",
       "      <td>...</td>\n",
       "      <td>...</td>\n",
       "      <td>...</td>\n",
       "      <td>...</td>\n",
       "      <td>...</td>\n",
       "    </tr>\n",
       "    <tr>\n",
       "      <th>13162</th>\n",
       "      <td>CRU-00133800-22</td>\n",
       "      <td>2022-03-31 23:32:52</td>\n",
       "      <td>14</td>\n",
       "      <td>Los Martires</td>\n",
       "      <td>Sin_dato</td>\n",
       "      <td>Sin_dato</td>\n",
       "      <td>Sin_dato</td>\n",
       "      <td>Norte</td>\n",
       "      <td>Herido</td>\n",
       "      <td>Alta</td>\n",
       "      <td>0000-00-00 00:00:00</td>\n",
       "    </tr>\n",
       "    <tr>\n",
       "      <th>13163</th>\n",
       "      <td>CRU-00133802-22</td>\n",
       "      <td>2022-03-31 23:39:22</td>\n",
       "      <td>8</td>\n",
       "      <td>Kennedy</td>\n",
       "      <td>19</td>\n",
       "      <td>Años</td>\n",
       "      <td>Masculino</td>\n",
       "      <td>Sur occidente</td>\n",
       "      <td>Intento de suicidio</td>\n",
       "      <td>Alta</td>\n",
       "      <td>2022-04-01 02:54:15</td>\n",
       "    </tr>\n",
       "    <tr>\n",
       "      <th>13164</th>\n",
       "      <td>CRU-00133803-22</td>\n",
       "      <td>2022-04-01 00:41:39</td>\n",
       "      <td>10</td>\n",
       "      <td>Engativa</td>\n",
       "      <td>Sin_dato</td>\n",
       "      <td>Sin_dato</td>\n",
       "      <td>Sin_dato</td>\n",
       "      <td>Norte</td>\n",
       "      <td>Intoxicacion</td>\n",
       "      <td>Alta</td>\n",
       "      <td>0000-00-00 00:00:00</td>\n",
       "    </tr>\n",
       "    <tr>\n",
       "      <th>13165</th>\n",
       "      <td>CRU-00133813-22</td>\n",
       "      <td>2022-03-31 23:48:57</td>\n",
       "      <td>10</td>\n",
       "      <td>Engativa</td>\n",
       "      <td>41</td>\n",
       "      <td>Años</td>\n",
       "      <td>Femenino</td>\n",
       "      <td>Norte</td>\n",
       "      <td>Evento respiratorio</td>\n",
       "      <td>Alta</td>\n",
       "      <td>2022-04-01 04:52:06</td>\n",
       "    </tr>\n",
       "    <tr>\n",
       "      <th>13166</th>\n",
       "      <td>CRU-00133815-22</td>\n",
       "      <td>2022-03-31 23:52:24</td>\n",
       "      <td>5</td>\n",
       "      <td>Usme</td>\n",
       "      <td>28</td>\n",
       "      <td>Años</td>\n",
       "      <td>Masculino</td>\n",
       "      <td>Privada</td>\n",
       "      <td>Herido</td>\n",
       "      <td>Alta</td>\n",
       "      <td>2022-04-01 00:23:37</td>\n",
       "    </tr>\n",
       "  </tbody>\n",
       "</table>\n",
       "<p>13118 rows × 11 columns</p>\n",
       "</div>"
      ],
      "text/plain": [
       "      NUMERO_INCIDENTE FECHA_INICIO_DESPLAZAMIENTO-MOVIL  CODIGO_LOCALIDAD  \\\n",
       "0      CRU-00085818-22               2022-03-01 00:11:13                19   \n",
       "1      CRU-00085821-22               2022-03-01 00:20:02                 8   \n",
       "2      CRU-00085824-22               2022-03-01 02:07:15                10   \n",
       "3      CRU-00085826-22               2022-03-01 01:40:42                11   \n",
       "4      CRU-00085828-22               2022-03-01 01:18:00                11   \n",
       "...                ...                               ...               ...   \n",
       "13162  CRU-00133800-22               2022-03-31 23:32:52                14   \n",
       "13163  CRU-00133802-22               2022-03-31 23:39:22                 8   \n",
       "13164  CRU-00133803-22               2022-04-01 00:41:39                10   \n",
       "13165  CRU-00133813-22               2022-03-31 23:48:57                10   \n",
       "13166  CRU-00133815-22               2022-03-31 23:52:24                 5   \n",
       "\n",
       "            LOCALIDAD      EDAD    UNIDAD     GENERO            RED  \\\n",
       "0      Ciudad bolivar  Sin_dato  Sin_dato   Sin_dato  Sur occidente   \n",
       "1             Kennedy  Sin_dato  Sin_dato   Sin_dato            Sur   \n",
       "2            Engativa        73      Años  Masculino          Norte   \n",
       "3                Suba  Sin_dato  Sin_dato   Sin_dato          Norte   \n",
       "4                Suba        24      Años   Femenino          Norte   \n",
       "...               ...       ...       ...        ...            ...   \n",
       "13162    Los Martires  Sin_dato  Sin_dato   Sin_dato          Norte   \n",
       "13163         Kennedy        19      Años  Masculino  Sur occidente   \n",
       "13164        Engativa  Sin_dato  Sin_dato   Sin_dato          Norte   \n",
       "13165        Engativa        41      Años   Femenino          Norte   \n",
       "13166            Usme        28      Años  Masculino        Privada   \n",
       "\n",
       "                    TIPO_INCIDENTE PRIORIDAD            RECEPCION  \n",
       "0                  Caida de altura      Alta  0000-00-00 00:00:00  \n",
       "1                   Dolor torácico      Alta  0000-00-00 00:00:00  \n",
       "2              Evento respiratorio    Critca  2022-03-01 05:08:32  \n",
       "3                     Intoxicacion     Media  0000-00-00 00:00:00  \n",
       "4      patologia gineco obstetrica      Alta  2022-03-01 04:17:19  \n",
       "...                            ...       ...                  ...  \n",
       "13162                       Herido      Alta  0000-00-00 00:00:00  \n",
       "13163          Intento de suicidio      Alta  2022-04-01 02:54:15  \n",
       "13164                 Intoxicacion      Alta  0000-00-00 00:00:00  \n",
       "13165          Evento respiratorio      Alta  2022-04-01 04:52:06  \n",
       "13166                       Herido      Alta  2022-04-01 00:23:37  \n",
       "\n",
       "[13118 rows x 11 columns]"
      ]
     },
     "execution_count": 13,
     "metadata": {},
     "output_type": "execute_result"
    }
   ],
   "source": [
    "n_data"
   ]
  }
 ],
 "metadata": {
  "kernelspec": {
   "display_name": "Python 3.9.12 ('base')",
   "language": "python",
   "name": "python3"
  },
  "language_info": {
   "codemirror_mode": {
    "name": "ipython",
    "version": 3
   },
   "file_extension": ".py",
   "mimetype": "text/x-python",
   "name": "python",
   "nbconvert_exporter": "python",
   "pygments_lexer": "ipython3",
   "version": "3.9.12"
  },
  "orig_nbformat": 4,
  "vscode": {
   "interpreter": {
    "hash": "f373e662262bfd03601bebd84b657915061dbb414d94e91198d4c8241d996e05"
   }
  }
 },
 "nbformat": 4,
 "nbformat_minor": 2
}
