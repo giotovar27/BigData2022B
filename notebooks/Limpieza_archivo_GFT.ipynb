{
 "cells": [
  {
   "cell_type": "code",
   "execution_count": 73,
   "metadata": {},
   "outputs": [],
   "source": [
    "import numpy as np\n",
    "import pandas as pd\n",
    "from datetime import datetime, timedelta\n",
    "import os\n",
    "from pathlib import Path\n",
    "from dateutil.parser import parse\n",
    "from fileinput import filename"
   ]
  },
  {
   "cell_type": "code",
   "execution_count": 74,
   "metadata": {},
   "outputs": [
    {
     "name": "stdout",
     "output_type": "stream",
     "text": [
      "root_dir: D:\\ESEIT\\BigData2022B\n"
     ]
    }
   ],
   "source": [
    "root_dir = Path(\".\").resolve().parent\n",
    "print(\"root_dir:\", root_dir)"
   ]
  },
  {
   "cell_type": "code",
   "execution_count": 75,
   "metadata": {},
   "outputs": [
    {
     "data": {
      "text/plain": [
       "['0.1.gtovar-eda-inicio-llamadas-123.ipynb',\n",
       " 'Análisis_de_imágenes.ipynb',\n",
       " 'BO_HeartData.xlsx',\n",
       " 'clase_4.ipynb',\n",
       " 'Codigo_09_1.ipynb',\n",
       " 'ETL_ejemplo_GTF.ipynb',\n",
       " 'Limpieza_archivo_GFT.ipynb',\n",
       " 'llamadas123_abril_2022.csv',\n",
       " 'llamadas123_agosto_2022.csv',\n",
       " 'llamadas123_enero_2022.csv',\n",
       " 'llamadas123_febrero_2022.csv',\n",
       " 'llamadas123_julio_2019.csv',\n",
       " 'llamadas123_julio_2022.csv',\n",
       " 'llamadas123_julio_2022_PRUEBA1.csv',\n",
       " 'llamadas123_junio_2022.csv',\n",
       " 'llamadas123_marzo_2022.csv',\n",
       " 'llamadas123_mayo_2022.csv']"
      ]
     },
     "execution_count": 75,
     "metadata": {},
     "output_type": "execute_result"
    }
   ],
   "source": [
    "# RUTA ARCHIVOS\n",
    "data_dir = \"notebooks\"\n",
    "path2 = os.path.join(root_dir,data_dir)\n",
    "os.listdir(path2)"
   ]
  },
  {
   "cell_type": "code",
   "execution_count": 76,
   "metadata": {},
   "outputs": [
    {
     "name": "stdout",
     "output_type": "stream",
     "text": [
      "D:\\ESEIT\\BigData2022B\\notebooks\\llamadas123_julio_2022.csv\n"
     ]
    }
   ],
   "source": [
    "filename=\"llamadas123_julio_2022.csv\"\n",
    "file_path = os.path.join(root_dir,data_dir,filename)\n",
    "print(file_path)"
   ]
  },
  {
   "cell_type": "code",
   "execution_count": 77,
   "metadata": {},
   "outputs": [],
   "source": [
    "data = pd.read_csv(file_path, encoding=\"latin-1\", sep=\";\")\n",
    "#data"
   ]
  },
  {
   "cell_type": "code",
   "execution_count": 78,
   "metadata": {},
   "outputs": [
    {
     "data": {
      "text/plain": [
       "NUMERO_INCIDENTE                     object\n",
       "FECHA_INICIO_DESPLAZAMIENTO_MOVIL    object\n",
       "CODIGO_LOCALIDAD                      int64\n",
       "LOCALIDAD                            object\n",
       "EDAD                                 object\n",
       "UNIDAD                               object\n",
       "GENERO                               object\n",
       "RED                                  object\n",
       "TIPO_INCIDENTE                       object\n",
       "PRIORIDAD                            object\n",
       "RECEPCION                            object\n",
       "dtype: object"
      ]
     },
     "execution_count": 78,
     "metadata": {},
     "output_type": "execute_result"
    }
   ],
   "source": [
    "data.dtypes"
   ]
  },
  {
   "cell_type": "code",
   "execution_count": 79,
   "metadata": {},
   "outputs": [
    {
     "name": "stdout",
     "output_type": "stream",
     "text": [
      "estructura inicial  (13055, 11)\n"
     ]
    }
   ],
   "source": [
    "print(\"estructura inicial \",data.shape)"
   ]
  },
  {
   "cell_type": "code",
   "execution_count": 80,
   "metadata": {},
   "outputs": [],
   "source": [
    "def nom_col(data):\n",
    "    data.rename( columns={\n",
    "        'FECHA_INICIO_DESPLAZAMIENTO-MOVIL':'FECHA_INICIO_DESPLAZAMIENTO_MOVIL',\n",
    "        'CODIGO DE LOCALIDAD':'CODIGO_LOCALIDAD',\n",
    "        'CLASIFICACION FINAL':'CLASIFICACION_FINAL'}, \n",
    "        inplace=True\n",
    "    )\n",
    "    \n",
    "nom_col(data)"
   ]
  },
  {
   "cell_type": "code",
   "execution_count": 81,
   "metadata": {},
   "outputs": [],
   "source": [
    "def tipo_dato(data): \n",
    "    #cambiar tipo de dato al campo edad ya que no todos los archivo vienen en el mismo tipo\n",
    "    data[\"EDAD\"]=data[\"EDAD\"].astype('str')\n",
    "        \n",
    "    return(data)\n",
    "\n",
    "tipo_dato(data)\n",
    "n_data=tipo_dato(data)\n"
   ]
  },
  {
   "cell_type": "code",
   "execution_count": 82,
   "metadata": {},
   "outputs": [
    {
     "name": "stdout",
     "output_type": "stream",
     "text": [
      "estructura final luego de eliminar duplicados  (13009, 11)\n"
     ]
    }
   ],
   "source": [
    "# FUNCION Eliminar duplicados\n",
    "\n",
    "def elimina_Duplicados(data):\n",
    "    '''Elimina los valores duplicados    '''\n",
    "    data=data.drop_duplicates() #elimina los duplicados\n",
    "    return data\n",
    "\n",
    "elimina_Duplicados(data)\n",
    "n_data=elimina_Duplicados(data)\n",
    "print(\"estructura final luego de eliminar duplicados \",n_data.shape)"
   ]
  },
  {
   "cell_type": "code",
   "execution_count": 83,
   "metadata": {},
   "outputs": [],
   "source": [
    "# FUNCION Sobrescribir valores nulos\n",
    "def valores_nulos(data):\n",
    "    \n",
    "    data=data.fillna('Sin dato') # remplaza los valores nulos por la palabra sin_dato\n",
    "    return data\n",
    "\n",
    "valores_nulos(n_data)\n",
    "n_data=valores_nulos(n_data)"
   ]
  },
  {
   "cell_type": "code",
   "execution_count": 84,
   "metadata": {},
   "outputs": [],
   "source": [
    "def remplazo(data):\n",
    "    #data=data.replace( r'''[¤]''','ñ', regex=True)\n",
    "    \n",
    "    data=data.replace( r'''[¤]''','ñ', regex=True)\n",
    "    data=data.replace( r'''[¡]''','i', regex=True)\n",
    "    \n",
    "    return(data)\n",
    "\n",
    "remplazo(n_data)\n",
    "n_data=remplazo(n_data)"
   ]
  },
  {
   "cell_type": "code",
   "execution_count": 85,
   "metadata": {},
   "outputs": [],
   "source": [
    "# FUNCION estandarizar datos, mayusculas o minusculas\n",
    "def estandarizar_datos(data1):\n",
    "    \n",
    "    #data1[\"RED\"]=data1[\"RED\",\"PRIORIDAD\"].str.upper()  # MAYUSCULA\n",
    "    #data1[\"RED\"]=data1[\"RED\"].str.lower()  # minuscula\n",
    "    data1.iloc[:,9]=data1.iloc[:,9].str.capitalize()  # 1ra mayuscula\n",
    "    data1.iloc[:,8]=data1.iloc[:,8].str.capitalize()\n",
    "    data1.iloc[:,7]=data1.iloc[:,7].str.capitalize()\n",
    "    data1.iloc[:,6]=data1.iloc[:,6].str.capitalize()\n",
    "    data1.iloc[:,5]=data1.iloc[:,5].str.capitalize()\n",
    "    data1.iloc[:,4]=data1.iloc[:,4].str.capitalize()\n",
    "    data1.iloc[:,3]=data1.iloc[:,3].str.capitalize()\n",
    "    return(data1)\n",
    "    \n",
    "n_data=estandarizar_datos(n_data) "
   ]
  },
  {
   "cell_type": "code",
   "execution_count": 86,
   "metadata": {},
   "outputs": [],
   "source": [
    "def remplazo(data):\n",
    "    #data=data.replace( r'''[¤]''','ñ', regex=True)\n",
    "    \n",
    "    replace_values={ 'Usaqu\\x82n' : 'Usaquen', 'Usaqun':'Usaquen','San crist¢bal': 'San Cristobal','Engativ\\xa0':'Engativa', 'Los m\\xa0rtires':'Los Martires',\n",
    "    'Fontib¢n':'Fontibon' }\n",
    "    replace_incidente= { 'Convulsi¢n' : 'Convulsion', 'Dolor tor\\xa0cico': 'Dolor torácico',\n",
    "    'Patologia ginecobst\\x82trica':'patologia gineco obstetrica', 'Intoxicaci¢n':'Intoxicacion',\n",
    "    'Electrocuci¢n / rescate':'Electrocucion / rescate' }                                                                   \n",
    "\n",
    "    data=data.replace( {\"LOCALIDAD\": replace_values} )\n",
    "    data=data.replace( {\"TIPO_INCIDENTE\": replace_incidente} )\n",
    "\n",
    "    return(data)\n",
    "\n",
    "remplazo(n_data)\n",
    "n_data=remplazo(n_data)"
   ]
  },
  {
   "cell_type": "code",
   "execution_count": 87,
   "metadata": {},
   "outputs": [
    {
     "data": {
      "text/html": [
       "<div>\n",
       "<style scoped>\n",
       "    .dataframe tbody tr th:only-of-type {\n",
       "        vertical-align: middle;\n",
       "    }\n",
       "\n",
       "    .dataframe tbody tr th {\n",
       "        vertical-align: top;\n",
       "    }\n",
       "\n",
       "    .dataframe thead th {\n",
       "        text-align: right;\n",
       "    }\n",
       "</style>\n",
       "<table border=\"1\" class=\"dataframe\">\n",
       "  <thead>\n",
       "    <tr style=\"text-align: right;\">\n",
       "      <th></th>\n",
       "      <th>NUMERO_INCIDENTE</th>\n",
       "      <th>FECHA_INICIO_DESPLAZAMIENTO_MOVIL</th>\n",
       "      <th>CODIGO_LOCALIDAD</th>\n",
       "      <th>LOCALIDAD</th>\n",
       "      <th>EDAD</th>\n",
       "      <th>UNIDAD</th>\n",
       "      <th>GENERO</th>\n",
       "      <th>RED</th>\n",
       "      <th>TIPO_INCIDENTE</th>\n",
       "      <th>PRIORIDAD</th>\n",
       "      <th>RECEPCION</th>\n",
       "    </tr>\n",
       "  </thead>\n",
       "  <tbody>\n",
       "    <tr>\n",
       "      <th>0</th>\n",
       "      <td>CRU-00278353-22</td>\n",
       "      <td>1/07/2022 0:08</td>\n",
       "      <td>11</td>\n",
       "      <td>Suba</td>\n",
       "      <td>88</td>\n",
       "      <td>Años</td>\n",
       "      <td>Femenino</td>\n",
       "      <td>Norte</td>\n",
       "      <td>Accidente cerebro vascular</td>\n",
       "      <td>Alta</td>\n",
       "      <td>1/07/2022 3:40</td>\n",
       "    </tr>\n",
       "    <tr>\n",
       "      <th>1</th>\n",
       "      <td>CRU-00278360-22</td>\n",
       "      <td>1/07/2022 0:14</td>\n",
       "      <td>11</td>\n",
       "      <td>Suba</td>\n",
       "      <td>16</td>\n",
       "      <td>Años</td>\n",
       "      <td>Masculino</td>\n",
       "      <td>Norte</td>\n",
       "      <td>Herido</td>\n",
       "      <td>Alta</td>\n",
       "      <td>1/07/2022 3:38</td>\n",
       "    </tr>\n",
       "    <tr>\n",
       "      <th>2</th>\n",
       "      <td>CRU-00278365-22</td>\n",
       "      <td>1/07/2022 0:21</td>\n",
       "      <td>18</td>\n",
       "      <td>Rafael uribe uribe</td>\n",
       "      <td>52</td>\n",
       "      <td>Años</td>\n",
       "      <td>Femenino</td>\n",
       "      <td>Centro oriente</td>\n",
       "      <td>Evento respiratorio</td>\n",
       "      <td>Critica</td>\n",
       "      <td>1/07/2022 4:08</td>\n",
       "    </tr>\n",
       "    <tr>\n",
       "      <th>3</th>\n",
       "      <td>CRU-00278370-22</td>\n",
       "      <td>1/07/2022 0:38</td>\n",
       "      <td>19</td>\n",
       "      <td>Ciudad bolivar</td>\n",
       "      <td>Sin_dato</td>\n",
       "      <td>Sin_dato</td>\n",
       "      <td>Sin_dato</td>\n",
       "      <td>Privada</td>\n",
       "      <td>Herido</td>\n",
       "      <td>Alta</td>\n",
       "      <td>0000-00-00 00:00:00</td>\n",
       "    </tr>\n",
       "    <tr>\n",
       "      <th>4</th>\n",
       "      <td>CRU-00278372-22</td>\n",
       "      <td>1/07/2022 0:53</td>\n",
       "      <td>1</td>\n",
       "      <td>Usaquen</td>\n",
       "      <td>33</td>\n",
       "      <td>Años</td>\n",
       "      <td>Masculino</td>\n",
       "      <td>Norte</td>\n",
       "      <td>Intento de suicidio</td>\n",
       "      <td>Alta</td>\n",
       "      <td>1/07/2022 3:25</td>\n",
       "    </tr>\n",
       "    <tr>\n",
       "      <th>...</th>\n",
       "      <td>...</td>\n",
       "      <td>...</td>\n",
       "      <td>...</td>\n",
       "      <td>...</td>\n",
       "      <td>...</td>\n",
       "      <td>...</td>\n",
       "      <td>...</td>\n",
       "      <td>...</td>\n",
       "      <td>...</td>\n",
       "      <td>...</td>\n",
       "      <td>...</td>\n",
       "    </tr>\n",
       "    <tr>\n",
       "      <th>13050</th>\n",
       "      <td>CRU-00314021-22</td>\n",
       "      <td>8/08/2022 5:31</td>\n",
       "      <td>14</td>\n",
       "      <td>Los Martires</td>\n",
       "      <td>18</td>\n",
       "      <td>Años</td>\n",
       "      <td>Femenino</td>\n",
       "      <td>Centro oriente</td>\n",
       "      <td>Acompañamiento evento</td>\n",
       "      <td>Baja</td>\n",
       "      <td>8/08/2022 6:48</td>\n",
       "    </tr>\n",
       "    <tr>\n",
       "      <th>13051</th>\n",
       "      <td>CRU-00314021-22</td>\n",
       "      <td>8/08/2022 10:38</td>\n",
       "      <td>14</td>\n",
       "      <td>Los Martires</td>\n",
       "      <td>Sin_dato</td>\n",
       "      <td>Sin_dato</td>\n",
       "      <td>Sin_dato</td>\n",
       "      <td>Sur occidente</td>\n",
       "      <td>Acompañamiento evento</td>\n",
       "      <td>Baja</td>\n",
       "      <td>0000-00-00 00:00:00</td>\n",
       "    </tr>\n",
       "    <tr>\n",
       "      <th>13052</th>\n",
       "      <td>CRU-00314021-22</td>\n",
       "      <td>8/08/2022 11:23</td>\n",
       "      <td>10</td>\n",
       "      <td>Engativa</td>\n",
       "      <td>11</td>\n",
       "      <td>Años</td>\n",
       "      <td>Masculino</td>\n",
       "      <td>Centro oriente</td>\n",
       "      <td>Acompañamiento evento</td>\n",
       "      <td>Baja</td>\n",
       "      <td>9/08/2022 13:13</td>\n",
       "    </tr>\n",
       "    <tr>\n",
       "      <th>13053</th>\n",
       "      <td>CRU-00314021-22</td>\n",
       "      <td>8/08/2022 11:23</td>\n",
       "      <td>10</td>\n",
       "      <td>Engativa</td>\n",
       "      <td>19</td>\n",
       "      <td>Años</td>\n",
       "      <td>Femenino</td>\n",
       "      <td>Centro oriente</td>\n",
       "      <td>Acompañamiento evento</td>\n",
       "      <td>Baja</td>\n",
       "      <td>0000-00-00 00:00:00</td>\n",
       "    </tr>\n",
       "    <tr>\n",
       "      <th>13054</th>\n",
       "      <td>CRU-00312775-22</td>\n",
       "      <td>Sin dato</td>\n",
       "      <td>9</td>\n",
       "      <td>Fontibon</td>\n",
       "      <td>Sin_dato</td>\n",
       "      <td>Sin_dato</td>\n",
       "      <td>Sin_dato</td>\n",
       "      <td>Sur occidente</td>\n",
       "      <td>Accidente cerebro vascular</td>\n",
       "      <td>Alta</td>\n",
       "      <td>0000-00-00 00:00:00</td>\n",
       "    </tr>\n",
       "  </tbody>\n",
       "</table>\n",
       "<p>13009 rows × 11 columns</p>\n",
       "</div>"
      ],
      "text/plain": [
       "      NUMERO_INCIDENTE FECHA_INICIO_DESPLAZAMIENTO_MOVIL  CODIGO_LOCALIDAD  \\\n",
       "0      CRU-00278353-22                    1/07/2022 0:08                11   \n",
       "1      CRU-00278360-22                    1/07/2022 0:14                11   \n",
       "2      CRU-00278365-22                    1/07/2022 0:21                18   \n",
       "3      CRU-00278370-22                    1/07/2022 0:38                19   \n",
       "4      CRU-00278372-22                    1/07/2022 0:53                 1   \n",
       "...                ...                               ...               ...   \n",
       "13050  CRU-00314021-22                    8/08/2022 5:31                14   \n",
       "13051  CRU-00314021-22                   8/08/2022 10:38                14   \n",
       "13052  CRU-00314021-22                   8/08/2022 11:23                10   \n",
       "13053  CRU-00314021-22                   8/08/2022 11:23                10   \n",
       "13054  CRU-00312775-22                          Sin dato                 9   \n",
       "\n",
       "                LOCALIDAD      EDAD    UNIDAD     GENERO             RED  \\\n",
       "0                    Suba        88      Años   Femenino           Norte   \n",
       "1                    Suba        16      Años  Masculino           Norte   \n",
       "2      Rafael uribe uribe        52      Años   Femenino  Centro oriente   \n",
       "3          Ciudad bolivar  Sin_dato  Sin_dato   Sin_dato         Privada   \n",
       "4                 Usaquen        33      Años  Masculino           Norte   \n",
       "...                   ...       ...       ...        ...             ...   \n",
       "13050        Los Martires        18      Años   Femenino  Centro oriente   \n",
       "13051        Los Martires  Sin_dato  Sin_dato   Sin_dato   Sur occidente   \n",
       "13052            Engativa        11      Años  Masculino  Centro oriente   \n",
       "13053            Engativa        19      Años   Femenino  Centro oriente   \n",
       "13054            Fontibon  Sin_dato  Sin_dato   Sin_dato   Sur occidente   \n",
       "\n",
       "                   TIPO_INCIDENTE PRIORIDAD            RECEPCION  \n",
       "0      Accidente cerebro vascular      Alta       1/07/2022 3:40  \n",
       "1                          Herido      Alta       1/07/2022 3:38  \n",
       "2             Evento respiratorio   Critica       1/07/2022 4:08  \n",
       "3                          Herido      Alta  0000-00-00 00:00:00  \n",
       "4             Intento de suicidio      Alta       1/07/2022 3:25  \n",
       "...                           ...       ...                  ...  \n",
       "13050       Acompañamiento evento      Baja       8/08/2022 6:48  \n",
       "13051       Acompañamiento evento      Baja  0000-00-00 00:00:00  \n",
       "13052       Acompañamiento evento      Baja      9/08/2022 13:13  \n",
       "13053       Acompañamiento evento      Baja  0000-00-00 00:00:00  \n",
       "13054  Accidente cerebro vascular      Alta  0000-00-00 00:00:00  \n",
       "\n",
       "[13009 rows x 11 columns]"
      ]
     },
     "execution_count": 87,
     "metadata": {},
     "output_type": "execute_result"
    }
   ],
   "source": [
    "#n_data.iloc[:,[3,4,5,6,7,8,9]]\n",
    "n_data"
   ]
  }
 ],
 "metadata": {
  "kernelspec": {
   "display_name": "Python 3.9.12 ('base')",
   "language": "python",
   "name": "python3"
  },
  "language_info": {
   "codemirror_mode": {
    "name": "ipython",
    "version": 3
   },
   "file_extension": ".py",
   "mimetype": "text/x-python",
   "name": "python",
   "nbconvert_exporter": "python",
   "pygments_lexer": "ipython3",
   "version": "3.9.12"
  },
  "orig_nbformat": 4,
  "vscode": {
   "interpreter": {
    "hash": "f373e662262bfd03601bebd84b657915061dbb414d94e91198d4c8241d996e05"
   }
  }
 },
 "nbformat": 4,
 "nbformat_minor": 2
}
