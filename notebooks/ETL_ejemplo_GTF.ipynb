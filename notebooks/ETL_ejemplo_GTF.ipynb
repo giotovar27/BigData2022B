{
 "cells": [
  {
   "cell_type": "code",
   "execution_count": null,
   "metadata": {},
   "outputs": [],
   "source": [
    "## EDA PARA LIMPIEZA DE DATOS"
   ]
  },
  {
   "cell_type": "code",
   "execution_count": 78,
   "metadata": {},
   "outputs": [],
   "source": [
    "import numpy as np\n",
    "import pandas as pd\n",
    "import os\n",
    "from pathlib import Path\n",
    "from dateutil.parser import parse\n"
   ]
  },
  {
   "cell_type": "code",
   "execution_count": 33,
   "metadata": {},
   "outputs": [
    {
     "name": "stdout",
     "output_type": "stream",
     "text": [
      "d:\\ESEIT\\BigData2022B\\notebooks\n"
     ]
    }
   ],
   "source": [
    "#print(os.getcwd())"
   ]
  },
  {
   "cell_type": "code",
   "execution_count": 49,
   "metadata": {},
   "outputs": [
    {
     "name": "stdout",
     "output_type": "stream",
     "text": [
      "root_dir: D:\\ESEIT\\BigData2022B\n"
     ]
    }
   ],
   "source": [
    "root_dir = Path(\".\").resolve().parent\n",
    "print(\"root_dir:\", root_dir)"
   ]
  },
  {
   "cell_type": "code",
   "execution_count": 52,
   "metadata": {},
   "outputs": [
    {
     "name": "stdout",
     "output_type": "stream",
     "text": [
      "D:\\ESEIT\\BigData2022B\\notebooks\\llamadas123_julio_2022.csv\n"
     ]
    }
   ],
   "source": [
    "# RUTA PROYECTO\n",
    "from fileinput import filename\n",
    "\n",
    "filename=\"llamadas123_julio_2022.csv\"\n",
    "data_dir = \"notebooks\"\n",
    "\n",
    "file_path = os.path.join(root_dir,data_dir,filename)\n",
    "print(file_path)"
   ]
  },
  {
   "cell_type": "code",
   "execution_count": 53,
   "metadata": {},
   "outputs": [],
   "source": [
    "data = pd.read_csv(file_path, encoding=\"latin-1\", sep=\";\")"
   ]
  },
  {
   "cell_type": "code",
   "execution_count": 55,
   "metadata": {},
   "outputs": [
    {
     "name": "stdout",
     "output_type": "stream",
     "text": [
      "forma inicial  (13055, 11)\n"
     ]
    }
   ],
   "source": [
    "data.head()\n",
    "print('forma inicial ',data.shape)"
   ]
  },
  {
   "cell_type": "code",
   "execution_count": 67,
   "metadata": {},
   "outputs": [
    {
     "name": "stdout",
     "output_type": "stream",
     "text": [
      "forma final  (13026, 11)\n"
     ]
    }
   ],
   "source": [
    "data= data.drop_duplicates() #elimina los duplicados\n",
    "print('forma final ',data.shape)"
   ]
  },
  {
   "cell_type": "code",
   "execution_count": 58,
   "metadata": {},
   "outputs": [
    {
     "name": "stdout",
     "output_type": "stream",
     "text": [
      "<class 'pandas.core.frame.DataFrame'>\n",
      "RangeIndex: 13055 entries, 0 to 13054\n",
      "Data columns (total 11 columns):\n",
      " #   Column                             Non-Null Count  Dtype \n",
      "---  ------                             --------------  ----- \n",
      " 0   NUMERO_INCIDENTE                   13055 non-null  object\n",
      " 1   FECHA_INICIO_DESPLAZAMIENTO_MOVIL  13055 non-null  object\n",
      " 2   CODIGO_LOCALIDAD                   13055 non-null  int64 \n",
      " 3   LOCALIDAD                          13055 non-null  object\n",
      " 4   EDAD                               13055 non-null  object\n",
      " 5   UNIDAD                             13047 non-null  object\n",
      " 6   GENERO                             13055 non-null  object\n",
      " 7   RED                                13055 non-null  object\n",
      " 8   TIPO_INCIDENTE                     13055 non-null  object\n",
      " 9   PRIORIDAD                          13055 non-null  object\n",
      " 10  RECEPCION                          13055 non-null  object\n",
      "dtypes: int64(1), object(10)\n",
      "memory usage: 1.1+ MB\n"
     ]
    }
   ],
   "source": [
    "# esquema de la tabla\n",
    "data.info()"
   ]
  },
  {
   "cell_type": "code",
   "execution_count": 60,
   "metadata": {},
   "outputs": [
    {
     "data": {
      "text/plain": [
       "A¤os        6794\n",
       "SIN_DATO    6203\n",
       "Meses         39\n",
       "NaN            8\n",
       "Horas          6\n",
       "Dias           5\n",
       "Name: UNIDAD, dtype: int64"
      ]
     },
     "execution_count": 60,
     "metadata": {},
     "output_type": "execute_result"
    }
   ],
   "source": [
    "data['UNIDAD'].value_counts(dropna=False) # realiza un conteo de los diferentes valores"
   ]
  },
  {
   "cell_type": "code",
   "execution_count": 61,
   "metadata": {},
   "outputs": [
    {
     "data": {
      "text/plain": [
       "A¤os        6794\n",
       "SIN_DATO    6203\n",
       "Meses         39\n",
       "SIN DATO       8\n",
       "Horas          6\n",
       "Dias           5\n",
       "Name: UNIDAD, dtype: int64"
      ]
     },
     "execution_count": 61,
     "metadata": {},
     "output_type": "execute_result"
    }
   ],
   "source": [
    "data['UNIDAD'].fillna('SIN DATO').value_counts(dropna=False)"
   ]
  },
  {
   "cell_type": "code",
   "execution_count": 62,
   "metadata": {},
   "outputs": [
    {
     "data": {
      "text/plain": [
       "0            A¤os\n",
       "1            A¤os\n",
       "2            A¤os\n",
       "3        SIN_DATO\n",
       "4            A¤os\n",
       "           ...   \n",
       "13050        A¤os\n",
       "13051    SIN_DATO\n",
       "13052        A¤os\n",
       "13053        A¤os\n",
       "13054    SIN_DATO\n",
       "Name: UNIDAD, Length: 13055, dtype: object"
      ]
     },
     "execution_count": 62,
     "metadata": {},
     "output_type": "execute_result"
    }
   ],
   "source": [
    "#sobrescribir valores nulos por una columna nueva sin nulos\n",
    "data['UNIDAD'].fillna('SIN DATO').fillna('sin_dato')"
   ]
  },
  {
   "cell_type": "code",
   "execution_count": 64,
   "metadata": {},
   "outputs": [
    {
     "data": {
      "text/plain": [
       "'2022-08-08 11:23:01'"
      ]
     },
     "execution_count": 64,
     "metadata": {},
     "output_type": "execute_result"
    }
   ],
   "source": [
    "col = 'FECHA_INICIO_DESPLAZAMIENTO_MOVIL'\n",
    "\n",
    "data [col].max()"
   ]
  },
  {
   "cell_type": "code",
   "execution_count": 68,
   "metadata": {},
   "outputs": [
    {
     "data": {
      "text/html": [
       "<div>\n",
       "<style scoped>\n",
       "    .dataframe tbody tr th:only-of-type {\n",
       "        vertical-align: middle;\n",
       "    }\n",
       "\n",
       "    .dataframe tbody tr th {\n",
       "        vertical-align: top;\n",
       "    }\n",
       "\n",
       "    .dataframe thead th {\n",
       "        text-align: right;\n",
       "    }\n",
       "</style>\n",
       "<table border=\"1\" class=\"dataframe\">\n",
       "  <thead>\n",
       "    <tr style=\"text-align: right;\">\n",
       "      <th></th>\n",
       "      <th>NUMERO_INCIDENTE</th>\n",
       "      <th>FECHA_INICIO_DESPLAZAMIENTO_MOVIL</th>\n",
       "      <th>CODIGO_LOCALIDAD</th>\n",
       "      <th>LOCALIDAD</th>\n",
       "      <th>EDAD</th>\n",
       "      <th>UNIDAD</th>\n",
       "      <th>GENERO</th>\n",
       "      <th>RED</th>\n",
       "      <th>TIPO_INCIDENTE</th>\n",
       "      <th>PRIORIDAD</th>\n",
       "      <th>RECEPCION</th>\n",
       "    </tr>\n",
       "  </thead>\n",
       "  <tbody>\n",
       "    <tr>\n",
       "      <th>13054</th>\n",
       "      <td>CRU-00312775-22</td>\n",
       "      <td>0000-00-00 00:00:00</td>\n",
       "      <td>9</td>\n",
       "      <td>Fontib¢n</td>\n",
       "      <td>SIN_DATO</td>\n",
       "      <td>SIN_DATO</td>\n",
       "      <td>SIN_DATO</td>\n",
       "      <td>Sur Occidente</td>\n",
       "      <td>Accidente Cerebro Vascular</td>\n",
       "      <td>ALTA</td>\n",
       "      <td>0000-00-00 00:00:00</td>\n",
       "    </tr>\n",
       "  </tbody>\n",
       "</table>\n",
       "</div>"
      ],
      "text/plain": [
       "      NUMERO_INCIDENTE FECHA_INICIO_DESPLAZAMIENTO_MOVIL  CODIGO_LOCALIDAD  \\\n",
       "13054  CRU-00312775-22               0000-00-00 00:00:00                 9   \n",
       "\n",
       "      LOCALIDAD      EDAD    UNIDAD    GENERO            RED  \\\n",
       "13054  Fontib¢n  SIN_DATO  SIN_DATO  SIN_DATO  Sur Occidente   \n",
       "\n",
       "                   TIPO_INCIDENTE PRIORIDAD            RECEPCION  \n",
       "13054  Accidente Cerebro Vascular      ALTA  0000-00-00 00:00:00  "
      ]
     },
     "execution_count": 68,
     "metadata": {},
     "output_type": "execute_result"
    }
   ],
   "source": [
    "# busca el valor minimo de la columna\n",
    "val_min= data[col].min()\n",
    "data[data[col] == val_min]  # aplica filtro"
   ]
  },
  {
   "cell_type": "code",
   "execution_count": 71,
   "metadata": {},
   "outputs": [
    {
     "name": "stdout",
     "output_type": "stream",
     "text": [
      "<class 'pandas.core.frame.DataFrame'>\n",
      "Int64Index: 13026 entries, 0 to 13054\n",
      "Data columns (total 11 columns):\n",
      " #   Column                             Non-Null Count  Dtype         \n",
      "---  ------                             --------------  -----         \n",
      " 0   NUMERO_INCIDENTE                   13026 non-null  object        \n",
      " 1   FECHA_INICIO_DESPLAZAMIENTO_MOVIL  13025 non-null  datetime64[ns]\n",
      " 2   CODIGO_LOCALIDAD                   13026 non-null  int64         \n",
      " 3   LOCALIDAD                          13026 non-null  object        \n",
      " 4   EDAD                               13026 non-null  object        \n",
      " 5   UNIDAD                             13018 non-null  object        \n",
      " 6   GENERO                             13026 non-null  object        \n",
      " 7   RED                                13026 non-null  object        \n",
      " 8   TIPO_INCIDENTE                     13026 non-null  object        \n",
      " 9   PRIORIDAD                          13026 non-null  object        \n",
      " 10  RECEPCION                          13026 non-null  object        \n",
      "dtypes: datetime64[ns](1), int64(1), object(9)\n",
      "memory usage: 1.2+ MB\n"
     ]
    }
   ],
   "source": [
    "#formato de fechas datetime\n",
    "data[col] = pd.to_datetime(data[col], errors='coerce')\n",
    "data.info()"
   ]
  },
  {
   "cell_type": "code",
   "execution_count": 72,
   "metadata": {},
   "outputs": [
    {
     "data": {
      "text/plain": [
       "0        2022-07-01 03:40:13\n",
       "1        2022-07-01 03:38:13\n",
       "2        2022-07-01 04:08:24\n",
       "3        0000-00-00 00:00:00\n",
       "4        2022-07-01 03:25:29\n",
       "                ...         \n",
       "13050         8/08/2022 6:48\n",
       "13051    0000-00-00 00:00:00\n",
       "13052        9/08/2022 13:13\n",
       "13053    0000-00-00 00:00:00\n",
       "13054    0000-00-00 00:00:00\n",
       "Name: RECEPCION, Length: 13026, dtype: object"
      ]
     },
     "execution_count": 72,
     "metadata": {},
     "output_type": "execute_result"
    }
   ],
   "source": [
    "data['RECEPCION']"
   ]
  },
  {
   "cell_type": "code",
   "execution_count": 83,
   "metadata": {},
   "outputs": [],
   "source": [
    "# funcion que reciba string con fechas y devuelva un valor datetime usando parse\n",
    "def convertir_formato_fecha(str_fecha):\n",
    "    val_datetime =parse(str_fecha,dayfirst=True)\n",
    "    return val_datetime"
   ]
  },
  {
   "cell_type": "code",
   "execution_count": 84,
   "metadata": {},
   "outputs": [
    {
     "ename": "TypeError",
     "evalue": "Parser must be a string or character stream, not Timestamp",
     "output_type": "error",
     "traceback": [
      "\u001b[1;31m---------------------------------------------------------------------------\u001b[0m",
      "\u001b[1;31mTypeError\u001b[0m                                 Traceback (most recent call last)",
      "\u001b[1;32md:\\ESEIT\\BigData2022B\\notebooks\\ETL_ejemplo_GTF.ipynb Celda 18\u001b[0m in \u001b[0;36m<cell line: 1>\u001b[1;34m()\u001b[0m\n\u001b[1;32m----> <a href='vscode-notebook-cell:/d%3A/ESEIT/BigData2022B/notebooks/ETL_ejemplo_GTF.ipynb#X32sZmlsZQ%3D%3D?line=0'>1</a>\u001b[0m convertir_formato_fecha(str_fecha\u001b[39m=\u001b[39;49mdata[\u001b[39m'\u001b[39;49m\u001b[39mRECEPCION\u001b[39;49m\u001b[39m'\u001b[39;49m][\u001b[39m13052\u001b[39;49m])\n",
      "\u001b[1;32md:\\ESEIT\\BigData2022B\\notebooks\\ETL_ejemplo_GTF.ipynb Celda 18\u001b[0m in \u001b[0;36mconvertir_formato_fecha\u001b[1;34m(str_fecha)\u001b[0m\n\u001b[0;32m      <a href='vscode-notebook-cell:/d%3A/ESEIT/BigData2022B/notebooks/ETL_ejemplo_GTF.ipynb#X32sZmlsZQ%3D%3D?line=1'>2</a>\u001b[0m \u001b[39mdef\u001b[39;00m \u001b[39mconvertir_formato_fecha\u001b[39m(str_fecha):\n\u001b[1;32m----> <a href='vscode-notebook-cell:/d%3A/ESEIT/BigData2022B/notebooks/ETL_ejemplo_GTF.ipynb#X32sZmlsZQ%3D%3D?line=2'>3</a>\u001b[0m     val_datetime \u001b[39m=\u001b[39mparse(str_fecha,dayfirst\u001b[39m=\u001b[39;49m\u001b[39mTrue\u001b[39;49;00m)\n\u001b[0;32m      <a href='vscode-notebook-cell:/d%3A/ESEIT/BigData2022B/notebooks/ETL_ejemplo_GTF.ipynb#X32sZmlsZQ%3D%3D?line=3'>4</a>\u001b[0m     \u001b[39mreturn\u001b[39;00m val_datetime\n",
      "File \u001b[1;32mc:\\Users\\D4rk_Vad3r\\anaconda3\\lib\\site-packages\\dateutil\\parser\\_parser.py:1368\u001b[0m, in \u001b[0;36mparse\u001b[1;34m(timestr, parserinfo, **kwargs)\u001b[0m\n\u001b[0;32m   1366\u001b[0m     \u001b[39mreturn\u001b[39;00m parser(parserinfo)\u001b[39m.\u001b[39mparse(timestr, \u001b[39m*\u001b[39m\u001b[39m*\u001b[39mkwargs)\n\u001b[0;32m   1367\u001b[0m \u001b[39melse\u001b[39;00m:\n\u001b[1;32m-> 1368\u001b[0m     \u001b[39mreturn\u001b[39;00m DEFAULTPARSER\u001b[39m.\u001b[39mparse(timestr, \u001b[39m*\u001b[39m\u001b[39m*\u001b[39mkwargs)\n",
      "File \u001b[1;32mc:\\Users\\D4rk_Vad3r\\anaconda3\\lib\\site-packages\\dateutil\\parser\\_parser.py:640\u001b[0m, in \u001b[0;36mparser.parse\u001b[1;34m(self, timestr, default, ignoretz, tzinfos, **kwargs)\u001b[0m\n\u001b[0;32m    636\u001b[0m \u001b[39mif\u001b[39;00m default \u001b[39mis\u001b[39;00m \u001b[39mNone\u001b[39;00m:\n\u001b[0;32m    637\u001b[0m     default \u001b[39m=\u001b[39m datetime\u001b[39m.\u001b[39mdatetime\u001b[39m.\u001b[39mnow()\u001b[39m.\u001b[39mreplace(hour\u001b[39m=\u001b[39m\u001b[39m0\u001b[39m, minute\u001b[39m=\u001b[39m\u001b[39m0\u001b[39m,\n\u001b[0;32m    638\u001b[0m                                               second\u001b[39m=\u001b[39m\u001b[39m0\u001b[39m, microsecond\u001b[39m=\u001b[39m\u001b[39m0\u001b[39m)\n\u001b[1;32m--> 640\u001b[0m res, skipped_tokens \u001b[39m=\u001b[39m \u001b[39mself\u001b[39m\u001b[39m.\u001b[39m_parse(timestr, \u001b[39m*\u001b[39m\u001b[39m*\u001b[39mkwargs)\n\u001b[0;32m    642\u001b[0m \u001b[39mif\u001b[39;00m res \u001b[39mis\u001b[39;00m \u001b[39mNone\u001b[39;00m:\n\u001b[0;32m    643\u001b[0m     \u001b[39mraise\u001b[39;00m ParserError(\u001b[39m\"\u001b[39m\u001b[39mUnknown string format: \u001b[39m\u001b[39m%s\u001b[39;00m\u001b[39m\"\u001b[39m, timestr)\n",
      "File \u001b[1;32mc:\\Users\\D4rk_Vad3r\\anaconda3\\lib\\site-packages\\dateutil\\parser\\_parser.py:719\u001b[0m, in \u001b[0;36mparser._parse\u001b[1;34m(self, timestr, dayfirst, yearfirst, fuzzy, fuzzy_with_tokens)\u001b[0m\n\u001b[0;32m    716\u001b[0m     yearfirst \u001b[39m=\u001b[39m info\u001b[39m.\u001b[39myearfirst\n\u001b[0;32m    718\u001b[0m res \u001b[39m=\u001b[39m \u001b[39mself\u001b[39m\u001b[39m.\u001b[39m_result()\n\u001b[1;32m--> 719\u001b[0m l \u001b[39m=\u001b[39m _timelex\u001b[39m.\u001b[39;49msplit(timestr)         \u001b[39m# Splits the timestr into tokens\u001b[39;00m\n\u001b[0;32m    721\u001b[0m skipped_idxs \u001b[39m=\u001b[39m []\n\u001b[0;32m    723\u001b[0m \u001b[39m# year/month/day list\u001b[39;00m\n",
      "File \u001b[1;32mc:\\Users\\D4rk_Vad3r\\anaconda3\\lib\\site-packages\\dateutil\\parser\\_parser.py:201\u001b[0m, in \u001b[0;36m_timelex.split\u001b[1;34m(cls, s)\u001b[0m\n\u001b[0;32m    199\u001b[0m \u001b[39m@classmethod\u001b[39m\n\u001b[0;32m    200\u001b[0m \u001b[39mdef\u001b[39;00m \u001b[39msplit\u001b[39m(\u001b[39mcls\u001b[39m, s):\n\u001b[1;32m--> 201\u001b[0m     \u001b[39mreturn\u001b[39;00m \u001b[39mlist\u001b[39m(\u001b[39mcls\u001b[39;49m(s))\n",
      "File \u001b[1;32mc:\\Users\\D4rk_Vad3r\\anaconda3\\lib\\site-packages\\dateutil\\parser\\_parser.py:69\u001b[0m, in \u001b[0;36m_timelex.__init__\u001b[1;34m(self, instream)\u001b[0m\n\u001b[0;32m     67\u001b[0m     instream \u001b[39m=\u001b[39m StringIO(instream)\n\u001b[0;32m     68\u001b[0m \u001b[39melif\u001b[39;00m \u001b[39mgetattr\u001b[39m(instream, \u001b[39m'\u001b[39m\u001b[39mread\u001b[39m\u001b[39m'\u001b[39m, \u001b[39mNone\u001b[39;00m) \u001b[39mis\u001b[39;00m \u001b[39mNone\u001b[39;00m:\n\u001b[1;32m---> 69\u001b[0m     \u001b[39mraise\u001b[39;00m \u001b[39mTypeError\u001b[39;00m(\u001b[39m'\u001b[39m\u001b[39mParser must be a string or character stream, not \u001b[39m\u001b[39m'\u001b[39m\n\u001b[0;32m     70\u001b[0m                     \u001b[39m'\u001b[39m\u001b[39m{itype}\u001b[39;00m\u001b[39m'\u001b[39m\u001b[39m.\u001b[39mformat(itype\u001b[39m=\u001b[39minstream\u001b[39m.\u001b[39m\u001b[39m__class__\u001b[39m\u001b[39m.\u001b[39m\u001b[39m__name__\u001b[39m))\n\u001b[0;32m     72\u001b[0m \u001b[39mself\u001b[39m\u001b[39m.\u001b[39minstream \u001b[39m=\u001b[39m instream\n\u001b[0;32m     73\u001b[0m \u001b[39mself\u001b[39m\u001b[39m.\u001b[39mcharstack \u001b[39m=\u001b[39m []\n",
      "\u001b[1;31mTypeError\u001b[0m: Parser must be a string or character stream, not Timestamp"
     ]
    }
   ],
   "source": [
    "convertir_formato_fecha(str_fecha=data['RECEPCION'][13052])"
   ]
  },
  {
   "cell_type": "code",
   "execution_count": 85,
   "metadata": {},
   "outputs": [
    {
     "name": "stdout",
     "output_type": "stream",
     "text": [
      "0 Parser must be a string or character stream, not Timestamp\n",
      "1 Parser must be a string or character stream, not Timestamp\n",
      "2 Parser must be a string or character stream, not Timestamp\n",
      "3 Parser must be a string or character stream, not NaTType\n",
      "4 Parser must be a string or character stream, not Timestamp\n"
     ]
    }
   ],
   "source": [
    "for i in range(0,5):\n",
    "    try:\n",
    "        val_datetime= convertir_formato_fecha(str_fecha=data['RECEPCION'][i])\n",
    "    except Exception as e:\n",
    "        print(i,e)\n",
    "        continue\n",
    "    print(val_datetime)"
   ]
  },
  {
   "cell_type": "code",
   "execution_count": 86,
   "metadata": {},
   "outputs": [
    {
     "ename": "SyntaxError",
     "evalue": "invalid syntax (2324789793.py, line 1)",
     "output_type": "error",
     "traceback": [
      "\u001b[1;36m  Input \u001b[1;32mIn [86]\u001b[1;36m\u001b[0m\n\u001b[1;33m    parse=(data['RECEPCION'][13052], dayfirst=True)\u001b[0m\n\u001b[1;37m                                             ^\u001b[0m\n\u001b[1;31mSyntaxError\u001b[0m\u001b[1;31m:\u001b[0m invalid syntax\n"
     ]
    }
   ],
   "source": [
    "parse=(data['RECEPCION'][13052], dayfirst=True)"
   ]
  },
  {
   "cell_type": "code",
   "execution_count": 75,
   "metadata": {},
   "outputs": [
    {
     "data": {
      "text/plain": [
       "0       2022-07-01 03:40:13\n",
       "1       2022-07-01 03:38:13\n",
       "2       2022-07-01 04:08:24\n",
       "3                       NaT\n",
       "4       2022-07-01 03:25:29\n",
       "                ...        \n",
       "13050   2022-08-08 06:48:00\n",
       "13051                   NaT\n",
       "13052   2022-09-08 13:13:00\n",
       "13053                   NaT\n",
       "13054                   NaT\n",
       "Name: RECEPCION, Length: 13026, dtype: datetime64[ns]"
      ]
     },
     "execution_count": 75,
     "metadata": {},
     "output_type": "execute_result"
    }
   ],
   "source": [
    "#col2 = 'RECEPCION'\n",
    "#data[col2] = pd.to_datetime(data[col2], errors='coerce')\n",
    "#data['RECEPCION']]\n",
    "\n",
    "pd.to_datetime(data['RECEPCION'],errors='coerce',format='%Y-%m-%d %H:%M%S')"
   ]
  },
  {
   "cell_type": "code",
   "execution_count": 77,
   "metadata": {},
   "outputs": [
    {
     "data": {
      "text/plain": [
       "datetime.datetime(2022, 12, 12, 0, 0)"
      ]
     },
     "execution_count": 77,
     "metadata": {},
     "output_type": "execute_result"
    }
   ],
   "source": [
    "\n",
    "parse('12-12-2022')"
   ]
  },
  {
   "cell_type": "code",
   "execution_count": 95,
   "metadata": {},
   "outputs": [
    {
     "data": {
      "text/plain": [
       "0              88\n",
       "1              16\n",
       "2              52\n",
       "3        SIN_DATO\n",
       "4              33\n",
       "           ...   \n",
       "13050          18\n",
       "13051    SIN_DATO\n",
       "13052          11\n",
       "13053          19\n",
       "13054    SIN_DATO\n",
       "Name: EDAD, Length: 13026, dtype: object"
      ]
     },
     "execution_count": 95,
     "metadata": {},
     "output_type": "execute_result"
    }
   ],
   "source": [
    "#remplazar sin dato por nulo de tipo numerico\n",
    "#data['EDAD'].replace({'SIN_DATO : np.nan'}).value_counts(dropna=False)\n",
    "\n",
    "data['EDAD'].replace({'SIN_DATO : np.nan'})"
   ]
  },
  {
   "cell_type": "code",
   "execution_count": 100,
   "metadata": {},
   "outputs": [
    {
     "data": {
      "text/plain": [
       "27"
      ]
     },
     "execution_count": 100,
     "metadata": {},
     "output_type": "execute_result"
    }
   ],
   "source": [
    "# funciones lambda\n",
    "\n",
    "x='3'\n",
    "f = lambda x: int(x)**3  # convertir string en entero\n",
    "f(x)"
   ]
  },
  {
   "cell_type": "code",
   "execution_count": 102,
   "metadata": {},
   "outputs": [
    {
     "data": {
      "text/plain": [
       "5"
      ]
     },
     "execution_count": 102,
     "metadata": {},
     "output_type": "execute_result"
    }
   ],
   "source": [
    "x= 5\n",
    "f =lambda x: x if pd.isna(x) ==True else int(x)\n",
    "\n",
    "f(x)"
   ]
  },
  {
   "cell_type": "code",
   "execution_count": 106,
   "metadata": {},
   "outputs": [
    {
     "ename": "ValueError",
     "evalue": "invalid literal for int() with base 10: 'SIN_DATO'",
     "output_type": "error",
     "traceback": [
      "\u001b[1;31m---------------------------------------------------------------------------\u001b[0m",
      "\u001b[1;31mValueError\u001b[0m                                Traceback (most recent call last)",
      "\u001b[1;32md:\\ESEIT\\BigData2022B\\notebooks\\ETL_ejemplo_GTF.ipynb Celda 26\u001b[0m in \u001b[0;36m<cell line: 2>\u001b[1;34m()\u001b[0m\n\u001b[0;32m      <a href='vscode-notebook-cell:/d%3A/ESEIT/BigData2022B/notebooks/ETL_ejemplo_GTF.ipynb#X40sZmlsZQ%3D%3D?line=0'>1</a>\u001b[0m \u001b[39m#data['EDAD'].apply(f)\u001b[39;00m\n\u001b[1;32m----> <a href='vscode-notebook-cell:/d%3A/ESEIT/BigData2022B/notebooks/ETL_ejemplo_GTF.ipynb#X40sZmlsZQ%3D%3D?line=1'>2</a>\u001b[0m data[\u001b[39m'\u001b[39m\u001b[39mEDAD\u001b[39m\u001b[39m'\u001b[39m]\u001b[39m=\u001b[39mdata[\u001b[39m'\u001b[39;49m\u001b[39mEDAD\u001b[39;49m\u001b[39m'\u001b[39;49m]\u001b[39m.\u001b[39;49mapply(f)\n",
      "File \u001b[1;32mc:\\Users\\D4rk_Vad3r\\anaconda3\\lib\\site-packages\\pandas\\core\\series.py:4433\u001b[0m, in \u001b[0;36mSeries.apply\u001b[1;34m(self, func, convert_dtype, args, **kwargs)\u001b[0m\n\u001b[0;32m   4323\u001b[0m \u001b[39mdef\u001b[39;00m \u001b[39mapply\u001b[39m(\n\u001b[0;32m   4324\u001b[0m     \u001b[39mself\u001b[39m,\n\u001b[0;32m   4325\u001b[0m     func: AggFuncType,\n\u001b[1;32m   (...)\u001b[0m\n\u001b[0;32m   4328\u001b[0m     \u001b[39m*\u001b[39m\u001b[39m*\u001b[39mkwargs,\n\u001b[0;32m   4329\u001b[0m ) \u001b[39m-\u001b[39m\u001b[39m>\u001b[39m DataFrame \u001b[39m|\u001b[39m Series:\n\u001b[0;32m   4330\u001b[0m     \u001b[39m\"\"\"\u001b[39;00m\n\u001b[0;32m   4331\u001b[0m \u001b[39m    Invoke function on values of Series.\u001b[39;00m\n\u001b[0;32m   4332\u001b[0m \n\u001b[1;32m   (...)\u001b[0m\n\u001b[0;32m   4431\u001b[0m \u001b[39m    dtype: float64\u001b[39;00m\n\u001b[0;32m   4432\u001b[0m \u001b[39m    \"\"\"\u001b[39;00m\n\u001b[1;32m-> 4433\u001b[0m     \u001b[39mreturn\u001b[39;00m SeriesApply(\u001b[39mself\u001b[39;49m, func, convert_dtype, args, kwargs)\u001b[39m.\u001b[39;49mapply()\n",
      "File \u001b[1;32mc:\\Users\\D4rk_Vad3r\\anaconda3\\lib\\site-packages\\pandas\\core\\apply.py:1082\u001b[0m, in \u001b[0;36mSeriesApply.apply\u001b[1;34m(self)\u001b[0m\n\u001b[0;32m   1078\u001b[0m \u001b[39mif\u001b[39;00m \u001b[39misinstance\u001b[39m(\u001b[39mself\u001b[39m\u001b[39m.\u001b[39mf, \u001b[39mstr\u001b[39m):\n\u001b[0;32m   1079\u001b[0m     \u001b[39m# if we are a string, try to dispatch\u001b[39;00m\n\u001b[0;32m   1080\u001b[0m     \u001b[39mreturn\u001b[39;00m \u001b[39mself\u001b[39m\u001b[39m.\u001b[39mapply_str()\n\u001b[1;32m-> 1082\u001b[0m \u001b[39mreturn\u001b[39;00m \u001b[39mself\u001b[39;49m\u001b[39m.\u001b[39;49mapply_standard()\n",
      "File \u001b[1;32mc:\\Users\\D4rk_Vad3r\\anaconda3\\lib\\site-packages\\pandas\\core\\apply.py:1137\u001b[0m, in \u001b[0;36mSeriesApply.apply_standard\u001b[1;34m(self)\u001b[0m\n\u001b[0;32m   1131\u001b[0m         values \u001b[39m=\u001b[39m obj\u001b[39m.\u001b[39mastype(\u001b[39mobject\u001b[39m)\u001b[39m.\u001b[39m_values\n\u001b[0;32m   1132\u001b[0m         \u001b[39m# error: Argument 2 to \"map_infer\" has incompatible type\u001b[39;00m\n\u001b[0;32m   1133\u001b[0m         \u001b[39m# \"Union[Callable[..., Any], str, List[Union[Callable[..., Any], str]],\u001b[39;00m\n\u001b[0;32m   1134\u001b[0m         \u001b[39m# Dict[Hashable, Union[Union[Callable[..., Any], str],\u001b[39;00m\n\u001b[0;32m   1135\u001b[0m         \u001b[39m# List[Union[Callable[..., Any], str]]]]]\"; expected\u001b[39;00m\n\u001b[0;32m   1136\u001b[0m         \u001b[39m# \"Callable[[Any], Any]\"\u001b[39;00m\n\u001b[1;32m-> 1137\u001b[0m         mapped \u001b[39m=\u001b[39m lib\u001b[39m.\u001b[39;49mmap_infer(\n\u001b[0;32m   1138\u001b[0m             values,\n\u001b[0;32m   1139\u001b[0m             f,  \u001b[39m# type: ignore[arg-type]\u001b[39;49;00m\n\u001b[0;32m   1140\u001b[0m             convert\u001b[39m=\u001b[39;49m\u001b[39mself\u001b[39;49m\u001b[39m.\u001b[39;49mconvert_dtype,\n\u001b[0;32m   1141\u001b[0m         )\n\u001b[0;32m   1143\u001b[0m \u001b[39mif\u001b[39;00m \u001b[39mlen\u001b[39m(mapped) \u001b[39mand\u001b[39;00m \u001b[39misinstance\u001b[39m(mapped[\u001b[39m0\u001b[39m], ABCSeries):\n\u001b[0;32m   1144\u001b[0m     \u001b[39m# GH#43986 Need to do list(mapped) in order to get treated as nested\u001b[39;00m\n\u001b[0;32m   1145\u001b[0m     \u001b[39m#  See also GH#25959 regarding EA support\u001b[39;00m\n\u001b[0;32m   1146\u001b[0m     \u001b[39mreturn\u001b[39;00m obj\u001b[39m.\u001b[39m_constructor_expanddim(\u001b[39mlist\u001b[39m(mapped), index\u001b[39m=\u001b[39mobj\u001b[39m.\u001b[39mindex)\n",
      "File \u001b[1;32mc:\\Users\\D4rk_Vad3r\\anaconda3\\lib\\site-packages\\pandas\\_libs\\lib.pyx:2870\u001b[0m, in \u001b[0;36mpandas._libs.lib.map_infer\u001b[1;34m()\u001b[0m\n",
      "\u001b[1;32md:\\ESEIT\\BigData2022B\\notebooks\\ETL_ejemplo_GTF.ipynb Celda 26\u001b[0m in \u001b[0;36m<lambda>\u001b[1;34m(x)\u001b[0m\n\u001b[0;32m      <a href='vscode-notebook-cell:/d%3A/ESEIT/BigData2022B/notebooks/ETL_ejemplo_GTF.ipynb#X40sZmlsZQ%3D%3D?line=0'>1</a>\u001b[0m x\u001b[39m=\u001b[39m \u001b[39m5\u001b[39m\n\u001b[1;32m----> <a href='vscode-notebook-cell:/d%3A/ESEIT/BigData2022B/notebooks/ETL_ejemplo_GTF.ipynb#X40sZmlsZQ%3D%3D?line=1'>2</a>\u001b[0m f \u001b[39m=\u001b[39m\u001b[39mlambda\u001b[39;00m x: x \u001b[39mif\u001b[39;00m pd\u001b[39m.\u001b[39misna(x) \u001b[39m==\u001b[39m\u001b[39mTrue\u001b[39;00m \u001b[39melse\u001b[39;00m \u001b[39mint\u001b[39;49m(x)\n\u001b[0;32m      <a href='vscode-notebook-cell:/d%3A/ESEIT/BigData2022B/notebooks/ETL_ejemplo_GTF.ipynb#X40sZmlsZQ%3D%3D?line=3'>4</a>\u001b[0m f(x)\n",
      "\u001b[1;31mValueError\u001b[0m: invalid literal for int() with base 10: 'SIN_DATO'"
     ]
    }
   ],
   "source": [
    "#data['EDAD'].apply(f)\n",
    "data['EDAD'] = data['EDAD'].apply(f)"
   ]
  },
  {
   "cell_type": "code",
   "execution_count": 107,
   "metadata": {},
   "outputs": [
    {
     "data": {
      "text/plain": [
       "0                      Suba\n",
       "1                      Suba\n",
       "2        Rafael Uribe Uribe\n",
       "3            Ciudad Bol¡var\n",
       "4                   Usaqun\n",
       "                ...        \n",
       "13050          Los M rtires\n",
       "13051          Los M rtires\n",
       "13052              Engativ \n",
       "13053              Engativ \n",
       "13054              Fontib¢n\n",
       "Name: LOCALIDAD, Length: 13026, dtype: object"
      ]
     },
     "execution_count": 107,
     "metadata": {},
     "output_type": "execute_result"
    }
   ],
   "source": [
    "data['LOCALIDAD']"
   ]
  },
  {
   "cell_type": "code",
   "execution_count": 108,
   "metadata": {},
   "outputs": [
    {
     "data": {
      "text/plain": [
       "Kennedy               1740\n",
       "Suba                  1323\n",
       "Engativ               1304\n",
       "Bosa                  1065\n",
       "Ciudad Bol¡var        1009\n",
       "Puente Aranda          742\n",
       "Fontib¢n               670\n",
       "Usaqun                667\n",
       "Rafael Uribe Uribe     601\n",
       "Usme                   597\n",
       "San Crist¢bal          595\n",
       "Chapinero              507\n",
       "Tunjuelito             391\n",
       "Barrios Unidos         389\n",
       "Los M rtires           379\n",
       "Teusaquillo            361\n",
       "Santa Fe               356\n",
       "Antonio Nari¤o         244\n",
       "La Candelaria           85\n",
       "Sumapaz                  1\n",
       "Name: LOCALIDAD, dtype: int64"
      ]
     },
     "execution_count": 108,
     "metadata": {},
     "output_type": "execute_result"
    }
   ],
   "source": [
    "data['LOCALIDAD'].value_counts()"
   ]
  },
  {
   "cell_type": "code",
   "execution_count": 111,
   "metadata": {},
   "outputs": [
    {
     "name": "stdout",
     "output_type": "stream",
     "text": [
      "  Bigdata   bigdata   BIGDATA\n"
     ]
    }
   ],
   "source": [
    "# estandarizar texto\n",
    "word='  Bigdata'\n",
    "print(word, word.lower(), word.upper())"
   ]
  },
  {
   "cell_type": "code",
   "execution_count": 113,
   "metadata": {},
   "outputs": [
    {
     "name": "stdout",
     "output_type": "stream",
     "text": [
      "bigdata\n"
     ]
    }
   ],
   "source": [
    "# quitar espacios en blaco\n",
    "word='  Bigdata'\n",
    "print(word.lower().lstrip())"
   ]
  }
 ],
 "metadata": {
  "kernelspec": {
   "display_name": "Python 3.9.12 ('base')",
   "language": "python",
   "name": "python3"
  },
  "language_info": {
   "codemirror_mode": {
    "name": "ipython",
    "version": 3
   },
   "file_extension": ".py",
   "mimetype": "text/x-python",
   "name": "python",
   "nbconvert_exporter": "python",
   "pygments_lexer": "ipython3",
   "version": "3.9.12"
  },
  "orig_nbformat": 4,
  "vscode": {
   "interpreter": {
    "hash": "f373e662262bfd03601bebd84b657915061dbb414d94e91198d4c8241d996e05"
   }
  }
 },
 "nbformat": 4,
 "nbformat_minor": 2
}
