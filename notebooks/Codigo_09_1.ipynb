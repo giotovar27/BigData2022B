{
 "cells": [
  {
   "cell_type": "code",
   "execution_count": 6,
   "metadata": {},
   "outputs": [],
   "source": [
    "#crear notebook\n",
    "\n",
    "#funcion def f(x,y,z) 0 x+y+z\n",
    "from unittest import result"
   ]
  },
  {
   "cell_type": "code",
   "execution_count": 7,
   "metadata": {},
   "outputs": [
    {
     "data": {
      "text/plain": [
       "13"
      ]
     },
     "execution_count": 7,
     "metadata": {},
     "output_type": "execute_result"
    }
   ],
   "source": [
    "def f(x,y,z):\n",
    "    resultado =x+y+z\n",
    "    return resultado\n",
    "\n",
    "\n",
    "f(x=5,y=10,z=-2)\n"
   ]
  },
  {
   "cell_type": "code",
   "execution_count": null,
   "metadata": {},
   "outputs": [],
   "source": [
    "# funciones\n",
    "\n",
    "# funcion que calcule\n",
    "# 1 suma numeros de una lista\n",
    "# 2 minimo valor de la lista\n",
    "# 3 maximo valor de la lista \n",
    "# 4 calcule la media y desviacion estandar"
   ]
  },
  {
   "cell_type": "code",
   "execution_count": 1,
   "metadata": {},
   "outputs": [],
   "source": [
    "def calcular_valores(lista_numeros):\n",
    " \n",
    "    #suma = calcular_valores(lista_numeros)\n",
    "    #min_val, max_val, =calcular_min_max(lista_numeros)\n",
    "    #media, dev_std = calcular_valores_central(lista_numeros)\n",
    "\n",
    "    return suma, min_val, max_val, media, dev_std"
   ]
  },
  {
   "cell_type": "code",
   "execution_count": 24,
   "metadata": {},
   "outputs": [
    {
     "ename": "IndentationError",
     "evalue": "unexpected indent (3617174210.py, line 3)",
     "output_type": "error",
     "traceback": [
      "\u001b[1;36m  Input \u001b[1;32mIn [24]\u001b[1;36m\u001b[0m\n\u001b[1;33m    min_value=(lista_numero)\u001b[0m\n\u001b[1;37m    ^\u001b[0m\n\u001b[1;31mIndentationError\u001b[0m\u001b[1;31m:\u001b[0m unexpected indent\n"
     ]
    }
   ],
   "source": [
    "def calcular_min_max(lista_numeros):\n",
    " '''retorna los valores max y min de una lista de numeros'''\n",
    "   min_value=(lista_numero)\n",
    "   max_value=(lista_numero)\n",
    "\n",
    "   print('Valor minimo:', min_value )\n",
    "   print('Valor maximo:', max_value )\n",
    " \n",
    "    return min_value,max_value\n"
   ]
  },
  {
   "cell_type": "code",
   "execution_count": 15,
   "metadata": {},
   "outputs": [],
   "source": [
    "def calcular_valores(lista_valores):\n",
    "\n",
    "    lista_valores=[2,8,22,1,5]\n",
    "    test=calcular_min_max(lista_numero,lista_valores)"
   ]
  },
  {
   "cell_type": "code",
   "execution_count": 19,
   "metadata": {},
   "outputs": [],
   "source": [
    "def calcular_valores(lista_numero, verbose=True):\n",
    "    suma = np.sum(lista_numero) \n",
    "\n",
    "    if verbose==True: \n",
    "        print('SUMA: ', suma ) \n",
    "    else: \n",
    "            pass\n",
    "\n",
    "    return suma"
   ]
  },
  {
   "cell_type": "code",
   "execution_count": 25,
   "metadata": {},
   "outputs": [
    {
     "ename": "",
     "evalue": "",
     "output_type": "error",
     "traceback": [
      "\u001b[1;31mCanceled future for execute_request message before replies were done"
     ]
    },
    {
     "ename": "",
     "evalue": "",
     "output_type": "error",
     "traceback": [
      "\u001b[1;31mEl Kernel se bloqueó al ejecutar código en la celda actual o en una celda anterior. Revise el código de las celdas para identificar una posible causa del error. Haga clic <a href='https://aka.ms/vscodeJupyterKernelCrash'>aquí</a> para obtener más información. Vea el [registro] de Jupyter (command:jupyter.viewOutput) para obtener más detalles."
     ]
    }
   ],
   "source": [
    "lista_valores=[2,8,22,1,5]\n",
    "test=calcular_valores(lista_valores)"
   ]
  },
  {
   "cell_type": "code",
   "execution_count": 5,
   "metadata": {},
   "outputs": [
    {
     "ename": "SyntaxError",
     "evalue": "invalid syntax (1804886117.py, line 1)",
     "output_type": "error",
     "traceback": [
      "\u001b[1;36m  Input \u001b[1;32mIn [5]\u001b[1;36m\u001b[0m\n\u001b[1;33m    import argparsefrom msilib.schema\u001b[0m\n\u001b[1;37m                        ^\u001b[0m\n\u001b[1;31mSyntaxError\u001b[0m\u001b[1;31m:\u001b[0m invalid syntax\n"
     ]
    }
   ],
   "source": [
    "import argparsefrom msilib.schema \n",
    "import Media\n",
    "\n",
    "def main():\n",
    "    # parse = argparse.ArgumentParser()    \n",
    "    # #parse.add_argument(\"--verbose\",type=bool, default=True, help=\"Imprimir en pantalla la informacion\")    \n",
    "    # #arg = parse.parse_args()\n",
    "    lista_valores=[2,8,22,1,5]\n",
    "    suma = calcular_valores(lista_numero=lista_valores, verbose=True)\n",
    "    media = calcular_valores_central(lista_numero=lista_valores, verbose=True)\n",
    "    dev_std = calcular_valores_central(lista_numero=lista_valores, verbose=True)\n",
    "    min_value = calcular_min_max(lista_numero=lista_valores, verbose=True)\n",
    "    max_value = calcular_min_max(lista_numero=lista_valores, verbose=True)\n",
    "   \n",
    "    print('Suma =',suma)\n",
    "    print('Media =',media)\n",
    "    print('Desv_Estandar =',dev_std)\n",
    "    print('Num minimo =',min_value)\n",
    "    print('Num maximo =',max_value)\n",
    "\n",
    "if __name__ == '__main__':\n",
    "        main()"
   ]
  }
 ],
 "metadata": {
  "kernelspec": {
   "display_name": "Python 3.9.12 ('base')",
   "language": "python",
   "name": "python3"
  },
  "language_info": {
   "codemirror_mode": {
    "name": "ipython",
    "version": 3
   },
   "file_extension": ".py",
   "mimetype": "text/x-python",
   "name": "python",
   "nbconvert_exporter": "python",
   "pygments_lexer": "ipython3",
   "version": "3.9.12"
  },
  "orig_nbformat": 4,
  "vscode": {
   "interpreter": {
    "hash": "f373e662262bfd03601bebd84b657915061dbb414d94e91198d4c8241d996e05"
   }
  }
 },
 "nbformat": 4,
 "nbformat_minor": 2
}
